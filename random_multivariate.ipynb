{
 "cells": [
  {
   "cell_type": "code",
   "execution_count": 1,
   "id": "c2a17a2b",
   "metadata": {},
   "outputs": [],
   "source": [
    "import sandy\n",
    "import numpy as np\n",
    "import pandas as pd\n",
    "import seaborn as sns\n",
    "from scipy.stats import norm\n",
    "from scipy.stats import lognorm"
   ]
  },
  {
   "cell_type": "code",
   "execution_count": 2,
   "id": "46d9b82b",
   "metadata": {},
   "outputs": [],
   "source": [
    "dummy_cov = np.asarray([[5/100,-4/70],[-4/70,3/49]])\n",
    "dummy_mean = np.array([10,7])\n",
    "dummy_center = np.ones(2)\n",
    "dummy_std = np.array([np.sqrt(5/100), np.sqrt(3/49)])"
   ]
  },
  {
   "cell_type": "code",
   "execution_count": 3,
   "id": "c885d43f",
   "metadata": {},
   "outputs": [
    {
     "data": {
      "text/plain": [
       "array([-0.00180555,  0.11303004])"
      ]
     },
     "execution_count": 3,
     "metadata": {},
     "output_type": "execute_result"
    }
   ],
   "source": [
    "np.linalg.eig(dummy_cov)[0]"
   ]
  },
  {
   "cell_type": "markdown",
   "id": "ce29bf1e",
   "metadata": {},
   "source": [
    "## Normal"
   ]
  },
  {
   "cell_type": "code",
   "execution_count": 4,
   "id": "64cd5596",
   "metadata": {},
   "outputs": [
    {
     "name": "stderr",
     "output_type": "stream",
     "text": [
      "C:\\Users\\fgrimald\\Anaconda3\\envs\\sandy-devel\\lib\\site-packages\\ipykernel_launcher.py:1: RuntimeWarning: covariance is not positive-semidefinite.\n",
      "  \"\"\"Entry point for launching an IPython kernel.\n"
     ]
    }
   ],
   "source": [
    "df = pd.DataFrame(np.random.multivariate_normal(dummy_center, dummy_cov, size=100000))"
   ]
  },
  {
   "cell_type": "code",
   "execution_count": 5,
   "id": "a040a6e7",
   "metadata": {},
   "outputs": [
    {
     "name": "stderr",
     "output_type": "stream",
     "text": [
      "C:\\Users\\fgrimald\\Anaconda3\\envs\\sandy-devel\\lib\\site-packages\\seaborn\\distributions.py:2619: FutureWarning: `distplot` is a deprecated function and will be removed in a future version. Please adapt your code to use either `displot` (a figure-level function with similar flexibility) or `histplot` (an axes-level function for histograms).\n",
      "  warnings.warn(msg, FutureWarning)\n"
     ]
    },
    {
     "name": "stdout",
     "output_type": "stream",
     "text": [
      "covariance:\n",
      "             0            1\n",
      "0  5.20090e-02 -5.54222e-02\n",
      "1 -5.54222e-02  6.29466e-02\n",
      "\n",
      "\n",
      "mean: [0.9985995187349177, 1.0013409372557802]\n"
     ]
    },
    {
     "data": {
      "image/png": "[encoded data removed]",
      "text/plain": [
       "<Figure size 432x288 with 1 Axes>"
      ]
     },
     "metadata": {
      "needs_background": "light"
     },
     "output_type": "display_data"
    }
   ],
   "source": [
    "sns.distplot(x=df.iloc[:,0], fit=norm, kde=False)\n",
    "print(f\"\"\"covariance:\n",
    "{df.cov()}\n",
    "\n",
    "\n",
    "mean: {[df.iloc[:,0].mean(), df.iloc[:,1].mean()]}\"\"\")"
   ]
  },
  {
   "cell_type": "code",
   "execution_count": 6,
   "id": "28085eaa",
   "metadata": {},
   "outputs": [
    {
     "name": "stderr",
     "output_type": "stream",
     "text": [
      "C:\\Users\\fgrimald\\Anaconda3\\envs\\sandy-devel\\lib\\site-packages\\seaborn\\distributions.py:2619: FutureWarning: `distplot` is a deprecated function and will be removed in a future version. Please adapt your code to use either `displot` (a figure-level function with similar flexibility) or `histplot` (an axes-level function for histograms).\n",
      "  warnings.warn(msg, FutureWarning)\n"
     ]
    },
    {
     "data": {
      "text/plain": [
       "<AxesSubplot:>"
      ]
     },
     "execution_count": 6,
     "metadata": {},
     "output_type": "execute_result"
    },
    {
     "data": {
      "image/png": "[encoded data removed]",
      "text/plain": [
       "<Figure size 432x288 with 1 Axes>"
      ]
     },
     "metadata": {
      "needs_background": "light"
     },
     "output_type": "display_data"
    }
   ],
   "source": [
    "samples = df.iloc[:,0]*dummy_mean[0]\n",
    "sns.distplot(x=samples, fit=norm, kde=False)"
   ]
  },
  {
   "cell_type": "markdown",
   "id": "f9dc1e0e",
   "metadata": {},
   "source": [
    "## Lognormal"
   ]
  },
  {
   "cell_type": "code",
   "execution_count": 7,
   "id": "b1e70726",
   "metadata": {},
   "outputs": [],
   "source": [
    "normal_equivalent_cov = (np.exp(dummy_cov)-1)*np.prod(dummy_center) # vale per una matrice 2x2 va bene la divisione per 1 ??\n",
    "normal_equivalent_mean = np.log(dummy_center)-dummy_std**2/2"
   ]
  },
  {
   "cell_type": "code",
   "execution_count": 8,
   "id": "be28e6fb",
   "metadata": {},
   "outputs": [],
   "source": [
    "df = pd.DataFrame(np.random.multivariate_normal(normal_equivalent_mean, normal_equivalent_cov, size=100000)).apply(np.exp)"
   ]
  },
  {
   "cell_type": "code",
   "execution_count": 9,
   "id": "4ad41efc",
   "metadata": {},
   "outputs": [
    {
     "name": "stderr",
     "output_type": "stream",
     "text": [
      "C:\\Users\\fgrimald\\Anaconda3\\envs\\sandy-devel\\lib\\site-packages\\seaborn\\distributions.py:2619: FutureWarning: `distplot` is a deprecated function and will be removed in a future version. Please adapt your code to use either `displot` (a figure-level function with similar flexibility) or `histplot` (an axes-level function for histograms).\n",
      "  warnings.warn(msg, FutureWarning)\n"
     ]
    },
    {
     "name": "stdout",
     "output_type": "stream",
     "text": [
      "covariance:\n",
      "             0            1\n",
      "0  5.31208e-02 -5.44075e-02\n",
      "1 -5.44075e-02  6.55034e-02\n",
      "\n",
      "\n",
      "mean: [1.0020049889308882, 0.9998691171462163]\n"
     ]
    },
    {
     "data": {
      "image/png": "[encoded data removed]",
      "text/plain": [
       "<Figure size 432x288 with 1 Axes>"
      ]
     },
     "metadata": {
      "needs_background": "light"
     },
     "output_type": "display_data"
    }
   ],
   "source": [
    "sns.distplot(x=df.iloc[:,0], fit=lognorm, kde=False)\n",
    "print(f\"\"\"covariance:\n",
    "{df.cov()}\n",
    "\n",
    "\n",
    "mean: {[df.iloc[:,0].mean(), df.iloc[:,1].mean()]}\"\"\")"
   ]
  },
  {
   "cell_type": "code",
   "execution_count": 10,
   "id": "9912521e",
   "metadata": {},
   "outputs": [
    {
     "name": "stderr",
     "output_type": "stream",
     "text": [
      "C:\\Users\\fgrimald\\Anaconda3\\envs\\sandy-devel\\lib\\site-packages\\seaborn\\distributions.py:2619: FutureWarning: `distplot` is a deprecated function and will be removed in a future version. Please adapt your code to use either `displot` (a figure-level function with similar flexibility) or `histplot` (an axes-level function for histograms).\n",
      "  warnings.warn(msg, FutureWarning)\n"
     ]
    },
    {
     "data": {
      "text/plain": [
       "<AxesSubplot:>"
      ]
     },
     "execution_count": 10,
     "metadata": {},
     "output_type": "execute_result"
    },
    {
     "data": {
      "image/png": "[encoded data removed]",
      "text/plain": [
       "<Figure size 432x288 with 1 Axes>"
      ]
     },
     "metadata": {
      "needs_background": "light"
     },
     "output_type": "display_data"
    }
   ],
   "source": [
    "samples = df.iloc[:,0]*dummy_mean[0]\n",
    "sns.distplot(x=samples, fit=lognorm, kde=False)"
   ]
  },
  {
   "cell_type": "code",
   "execution_count": 11,
   "id": "6dc2f0b2",
   "metadata": {},
   "outputs": [],
   "source": [
    "dd = pd.concat([df.iloc[:,0]*dummy_mean[0], df.iloc[:,1]*dummy_mean[1]], ignore_index=True, axis=1)"
   ]
  },
  {
   "cell_type": "code",
   "execution_count": 12,
   "id": "aa253980",
   "metadata": {
    "scrolled": true
   },
   "outputs": [
    {
     "data": {
      "text/html": [
       "<div>\n",
       "<style scoped>\n",
       "    .dataframe tbody tr th:only-of-type {\n",
       "        vertical-align: middle;\n",
       "    }\n",
       "\n",
       "    .dataframe tbody tr th {\n",
       "        vertical-align: top;\n",
       "    }\n",
       "\n",
       "    .dataframe thead th {\n",
       "        text-align: right;\n",
       "    }\n",
       "</style>\n",
       "<table border=\"1\" class=\"dataframe\">\n",
       "  <thead>\n",
       "    <tr style=\"text-align: right;\">\n",
       "      <th></th>\n",
       "      <th>0</th>\n",
       "      <th>1</th>\n",
       "    </tr>\n",
       "  </thead>\n",
       "  <tbody>\n",
       "    <tr>\n",
       "      <th>0</th>\n",
       "      <td>5.31208e+00</td>\n",
       "      <td>-3.80852e+00</td>\n",
       "    </tr>\n",
       "    <tr>\n",
       "      <th>1</th>\n",
       "      <td>-3.80852e+00</td>\n",
       "      <td>3.20967e+00</td>\n",
       "    </tr>\n",
       "  </tbody>\n",
       "</table>\n",
       "</div>"
      ],
      "text/plain": [
       "             0            1\n",
       "0  5.31208e+00 -3.80852e+00\n",
       "1 -3.80852e+00  3.20967e+00"
      ]
     },
     "execution_count": 12,
     "metadata": {},
     "output_type": "execute_result"
    }
   ],
   "source": [
    "dd.cov()"
   ]
  },
  {
   "cell_type": "markdown",
   "id": "859edd0b",
   "metadata": {},
   "source": [
    "# Test case: Eu155"
   ]
  },
  {
   "cell_type": "markdown",
   "id": "3848eaeb",
   "metadata": {},
   "source": [
    "$$ cov(x_i, x_j) = (e^{cov(ln(x_i),ln(x_j))}-1)\\cdot<x_i><x_j> $$"
   ]
  },
  {
   "cell_type": "code",
   "execution_count": 13,
   "id": "749db484",
   "metadata": {},
   "outputs": [],
   "source": [
    "endf6 = sandy.get_endf6_file('jeff_33','xs', 631550)\n",
    "# endf6 = sandy.get_endf6_file('jeff_33','xs', 922350)  # This was tested. It gives no error, but its smaller std gives less evident results"
   ]
  },
  {
   "cell_type": "code",
   "execution_count": 14,
   "id": "bac1a719",
   "metadata": {},
   "outputs": [
    {
     "name": "stderr",
     "output_type": "stream",
     "text": [
      "WARNING:  found duplicate energy for MAT6337/MF3/MT1 at 1.00000e+05 MeV, keep only first value\n",
      "WARNING:  found duplicate energy for MAT6337/MF3/MT2 at 1.00000e+05 MeV, keep only first value\n",
      "WARNING:  found duplicate energy for MAT6337/MF3/MT102 at 1.00000e+05 MeV, keep only first value\n"
     ]
    }
   ],
   "source": [
    "Cov = sandy.XsCov.from_endf6(endf6)\n",
    "BE = sandy.Xs.from_endf6(endf6)"
   ]
  },
  {
   "cell_type": "markdown",
   "id": "2839b009",
   "metadata": {},
   "source": [
    "## Normal"
   ]
  },
  {
   "cell_type": "code",
   "execution_count": 15,
   "id": "6c8cd508",
   "metadata": {},
   "outputs": [
    {
     "name": "stderr",
     "output_type": "stream",
     "text": [
      "C:\\Users\\fgrimald\\Anaconda3\\envs\\sandy-devel\\lib\\site-packages\\ipykernel_launcher.py:1: RuntimeWarning: covariance is not positive-semidefinite.\n",
      "  \"\"\"Entry point for launching an IPython kernel.\n"
     ]
    }
   ],
   "source": [
    "df = pd.DataFrame(np.random.multivariate_normal(np.ones(len(Cov)), Cov, size=1000000))"
   ]
  },
  {
   "cell_type": "code",
   "execution_count": 16,
   "id": "617fd0c9",
   "metadata": {},
   "outputs": [
    {
     "name": "stderr",
     "output_type": "stream",
     "text": [
      "C:\\Users\\fgrimald\\Anaconda3\\envs\\sandy-devel\\lib\\site-packages\\seaborn\\distributions.py:2619: FutureWarning: `distplot` is a deprecated function and will be removed in a future version. Please adapt your code to use either `displot` (a figure-level function with similar flexibility) or `histplot` (an axes-level function for histograms).\n",
      "  warnings.warn(msg, FutureWarning)\n"
     ]
    },
    {
     "name": "stdout",
     "output_type": "stream",
     "text": [
      "\n",
      "\n",
      "mean: [1.0121642034099827, 0.9877881883231315]\n"
     ]
    },
    {
     "data": {
      "image/png": "[encoded data removed]",
      "text/plain": [
       "<Figure size 432x288 with 1 Axes>"
      ]
     },
     "metadata": {
      "needs_background": "light"
     },
     "output_type": "display_data"
    }
   ],
   "source": [
    "sns.distplot(x=df.iloc[0,:], bins= 20, fit=norm, kde=False)\n",
    "print(f\"\"\"\n",
    "\n",
    "mean: {[df.iloc[0,:].mean(), df.iloc[-1,:].mean()]}\"\"\")"
   ]
  },
  {
   "cell_type": "code",
   "execution_count": 17,
   "id": "cad44bac",
   "metadata": {},
   "outputs": [
    {
     "data": {
      "text/plain": [
       "-3.8227812066967903"
      ]
     },
     "execution_count": 17,
     "metadata": {},
     "output_type": "execute_result"
    }
   ],
   "source": [
    "df.values.min()"
   ]
  },
  {
   "cell_type": "markdown",
   "id": "96ee8297",
   "metadata": {},
   "source": [
    "## Lognormal"
   ]
  },
  {
   "cell_type": "code",
   "execution_count": 18,
   "id": "9b427ad8",
   "metadata": {},
   "outputs": [],
   "source": [
    "COV = Cov.apply(np.exp) - 1 * 1 * 1  # Target mean to 1"
   ]
  },
  {
   "cell_type": "code",
   "execution_count": 19,
   "id": "18f3ff2f",
   "metadata": {},
   "outputs": [],
   "source": [
    "std = Cov.std(axis=1)"
   ]
  },
  {
   "cell_type": "code",
   "execution_count": 20,
   "id": "9b776f51",
   "metadata": {},
   "outputs": [],
   "source": [
    "normal_equivalent_mean = np.log(np.ones(len(Cov))) - std**2/2"
   ]
  },
  {
   "cell_type": "code",
   "execution_count": 21,
   "id": "721d6b4f",
   "metadata": {},
   "outputs": [
    {
     "name": "stderr",
     "output_type": "stream",
     "text": [
      "C:\\Users\\fgrimald\\Anaconda3\\envs\\sandy-devel\\lib\\site-packages\\ipykernel_launcher.py:1: RuntimeWarning: covariance is not positive-semidefinite.\n",
      "  \"\"\"Entry point for launching an IPython kernel.\n"
     ]
    }
   ],
   "source": [
    "df = pd.DataFrame(np.random.multivariate_normal(normal_equivalent_mean, COV, size=1000000)).apply(np.exp)"
   ]
  },
  {
   "cell_type": "code",
   "execution_count": 22,
   "id": "db4d5f68",
   "metadata": {
    "scrolled": false
   },
   "outputs": [
    {
     "name": "stderr",
     "output_type": "stream",
     "text": [
      "C:\\Users\\fgrimald\\Anaconda3\\envs\\sandy-devel\\lib\\site-packages\\seaborn\\distributions.py:2619: FutureWarning: `distplot` is a deprecated function and will be removed in a future version. Please adapt your code to use either `displot` (a figure-level function with similar flexibility) or `histplot` (an axes-level function for histograms).\n",
      "  warnings.warn(msg, FutureWarning)\n"
     ]
    },
    {
     "name": "stdout",
     "output_type": "stream",
     "text": [
      "\n",
      "\n",
      "mean: [1.20369023059764, 0.9731406456293668]\n"
     ]
    },
    {
     "data": {
      "image/png": "[encoded data removed]",
      "text/plain": [
       "<Figure size 432x288 with 1 Axes>"
      ]
     },
     "metadata": {
      "needs_background": "light"
     },
     "output_type": "display_data"
    }
   ],
   "source": [
    "sns.distplot(x=df.iloc[0,:], bins= 20, fit=lognorm, kde=False)\n",
    "print(f\"\"\"\n",
    "\n",
    "mean: {[df.iloc[0,:].mean(), df.iloc[-1,:].mean()]}\"\"\")"
   ]
  },
  {
   "cell_type": "code",
   "execution_count": 23,
   "id": "f01855a5",
   "metadata": {},
   "outputs": [
    {
     "data": {
      "text/plain": [
       "0.0033834335974203393"
      ]
     },
     "execution_count": 23,
     "metadata": {},
     "output_type": "execute_result"
    }
   ],
   "source": [
    "df.values.min()"
   ]
  },
  {
   "cell_type": "markdown",
   "id": "960a6e6d",
   "metadata": {},
   "source": [
    "## Comparison with what is implemented in CategoryCov"
   ]
  },
  {
   "cell_type": "markdown",
   "id": "ad49e1d5",
   "metadata": {},
   "source": [
    "Consider the negative eigenvalues are set to 0 in CategoryCov sampling method, but not in our proposed procedure.\n",
    "Eigenvalues could be set to zero in the latter as well, if one wants."
   ]
  },
  {
   "cell_type": "code",
   "execution_count": 24,
   "id": "47b87eea",
   "metadata": {},
   "outputs": [],
   "source": [
    "CatCov = sandy.CategoryCov(Cov)"
   ]
  },
  {
   "cell_type": "code",
   "execution_count": 25,
   "id": "503bc964",
   "metadata": {},
   "outputs": [
    {
     "data": {
      "text/html": [
       "<div>\n",
       "<style scoped>\n",
       "    .dataframe tbody tr th:only-of-type {\n",
       "        vertical-align: middle;\n",
       "    }\n",
       "\n",
       "    .dataframe tbody tr th {\n",
       "        vertical-align: top;\n",
       "    }\n",
       "\n",
       "    .dataframe thead th {\n",
       "        text-align: right;\n",
       "    }\n",
       "</style>\n",
       "<table border=\"1\" class=\"dataframe\">\n",
       "  <thead>\n",
       "    <tr style=\"text-align: right;\">\n",
       "      <th></th>\n",
       "      <th>0</th>\n",
       "      <th>1</th>\n",
       "      <th>2</th>\n",
       "      <th>3</th>\n",
       "      <th>4</th>\n",
       "      <th>5</th>\n",
       "      <th>6</th>\n",
       "      <th>7</th>\n",
       "      <th>8</th>\n",
       "      <th>9</th>\n",
       "      <th>...</th>\n",
       "      <th>89</th>\n",
       "      <th>90</th>\n",
       "      <th>91</th>\n",
       "      <th>92</th>\n",
       "      <th>93</th>\n",
       "      <th>94</th>\n",
       "      <th>95</th>\n",
       "      <th>96</th>\n",
       "      <th>97</th>\n",
       "      <th>98</th>\n",
       "    </tr>\n",
       "  </thead>\n",
       "  <tbody>\n",
       "    <tr>\n",
       "      <th>0</th>\n",
       "      <td>4.00048e-02</td>\n",
       "      <td>5.98436e-05</td>\n",
       "      <td>-3.92647e-04</td>\n",
       "      <td>-3.84067e-04</td>\n",
       "      <td>-3.75754e-04</td>\n",
       "      <td>-3.57726e-04</td>\n",
       "      <td>-3.38367e-04</td>\n",
       "      <td>-3.22556e-04</td>\n",
       "      <td>-3.07676e-04</td>\n",
       "      <td>-2.74470e-04</td>\n",
       "      <td>...</td>\n",
       "      <td>4.55143e-04</td>\n",
       "      <td>3.06360e-04</td>\n",
       "      <td>1.91340e-04</td>\n",
       "      <td>1.81393e-04</td>\n",
       "      <td>2.06283e-04</td>\n",
       "      <td>3.18997e-04</td>\n",
       "      <td>4.02209e-04</td>\n",
       "      <td>4.18267e-04</td>\n",
       "      <td>4.24544e-04</td>\n",
       "      <td>0.00000e+00</td>\n",
       "    </tr>\n",
       "    <tr>\n",
       "      <th>1</th>\n",
       "      <td>5.98436e-05</td>\n",
       "      <td>4.04883e-02</td>\n",
       "      <td>-1.79973e-04</td>\n",
       "      <td>-1.81088e-04</td>\n",
       "      <td>-1.80794e-04</td>\n",
       "      <td>-1.83400e-04</td>\n",
       "      <td>-1.83638e-04</td>\n",
       "      <td>-1.82826e-04</td>\n",
       "      <td>-1.82604e-04</td>\n",
       "      <td>-1.78755e-04</td>\n",
       "      <td>...</td>\n",
       "      <td>-8.31376e-04</td>\n",
       "      <td>-9.64756e-04</td>\n",
       "      <td>-8.13495e-04</td>\n",
       "      <td>-5.37095e-04</td>\n",
       "      <td>-1.74075e-04</td>\n",
       "      <td>4.75232e-04</td>\n",
       "      <td>1.00364e-03</td>\n",
       "      <td>1.25044e-03</td>\n",
       "      <td>1.33479e-03</td>\n",
       "      <td>0.00000e+00</td>\n",
       "    </tr>\n",
       "    <tr>\n",
       "      <th>2</th>\n",
       "      <td>-3.92647e-04</td>\n",
       "      <td>-1.79973e-04</td>\n",
       "      <td>5.09542e-02</td>\n",
       "      <td>5.09293e-02</td>\n",
       "      <td>5.08666e-02</td>\n",
       "      <td>5.06090e-02</td>\n",
       "      <td>5.01606e-02</td>\n",
       "      <td>4.96654e-02</td>\n",
       "      <td>4.92261e-02</td>\n",
       "      <td>4.81917e-02</td>\n",
       "      <td>...</td>\n",
       "      <td>-4.22971e-04</td>\n",
       "      <td>-5.64607e-04</td>\n",
       "      <td>-8.54418e-04</td>\n",
       "      <td>-1.15239e-03</td>\n",
       "      <td>-1.43982e-03</td>\n",
       "      <td>-1.86801e-03</td>\n",
       "      <td>-2.16111e-03</td>\n",
       "      <td>-2.30965e-03</td>\n",
       "      <td>-2.30495e-03</td>\n",
       "      <td>0.00000e+00</td>\n",
       "    </tr>\n",
       "    <tr>\n",
       "      <th>3</th>\n",
       "      <td>-3.84067e-04</td>\n",
       "      <td>-1.81088e-04</td>\n",
       "      <td>5.09293e-02</td>\n",
       "      <td>5.09358e-02</td>\n",
       "      <td>5.09079e-02</td>\n",
       "      <td>5.07222e-02</td>\n",
       "      <td>5.03485e-02</td>\n",
       "      <td>4.99126e-02</td>\n",
       "      <td>4.95165e-02</td>\n",
       "      <td>4.85625e-02</td>\n",
       "      <td>...</td>\n",
       "      <td>-4.01526e-04</td>\n",
       "      <td>-5.49476e-04</td>\n",
       "      <td>-8.49430e-04</td>\n",
       "      <td>-1.16049e-03</td>\n",
       "      <td>-1.46338e-03</td>\n",
       "      <td>-1.91669e-03</td>\n",
       "      <td>-2.22540e-03</td>\n",
       "      <td>-2.37902e-03</td>\n",
       "      <td>-2.37511e-03</td>\n",
       "      <td>0.00000e+00</td>\n",
       "    </tr>\n",
       "    <tr>\n",
       "      <th>4</th>\n",
       "      <td>-3.75754e-04</td>\n",
       "      <td>-1.80794e-04</td>\n",
       "      <td>5.08666e-02</td>\n",
       "      <td>5.09079e-02</td>\n",
       "      <td>5.09189e-02</td>\n",
       "      <td>5.08137e-02</td>\n",
       "      <td>5.05235e-02</td>\n",
       "      <td>5.01545e-02</td>\n",
       "      <td>4.98069e-02</td>\n",
       "      <td>4.89439e-02</td>\n",
       "      <td>...</td>\n",
       "      <td>-3.77711e-04</td>\n",
       "      <td>-5.31561e-04</td>\n",
       "      <td>-8.41674e-04</td>\n",
       "      <td>-1.16602e-03</td>\n",
       "      <td>-1.48471e-03</td>\n",
       "      <td>-1.96387e-03</td>\n",
       "      <td>-2.28891e-03</td>\n",
       "      <td>-2.44791e-03</td>\n",
       "      <td>-2.44495e-03</td>\n",
       "      <td>0.00000e+00</td>\n",
       "    </tr>\n",
       "    <tr>\n",
       "      <th>...</th>\n",
       "      <td>...</td>\n",
       "      <td>...</td>\n",
       "      <td>...</td>\n",
       "      <td>...</td>\n",
       "      <td>...</td>\n",
       "      <td>...</td>\n",
       "      <td>...</td>\n",
       "      <td>...</td>\n",
       "      <td>...</td>\n",
       "      <td>...</td>\n",
       "      <td>...</td>\n",
       "      <td>...</td>\n",
       "      <td>...</td>\n",
       "      <td>...</td>\n",
       "      <td>...</td>\n",
       "      <td>...</td>\n",
       "      <td>...</td>\n",
       "      <td>...</td>\n",
       "      <td>...</td>\n",
       "      <td>...</td>\n",
       "      <td>...</td>\n",
       "    </tr>\n",
       "    <tr>\n",
       "      <th>94</th>\n",
       "      <td>3.18997e-04</td>\n",
       "      <td>4.75232e-04</td>\n",
       "      <td>-1.86801e-03</td>\n",
       "      <td>-1.91669e-03</td>\n",
       "      <td>-1.96387e-03</td>\n",
       "      <td>-2.06785e-03</td>\n",
       "      <td>-2.16674e-03</td>\n",
       "      <td>-2.24508e-03</td>\n",
       "      <td>-2.30720e-03</td>\n",
       "      <td>-2.43846e-03</td>\n",
       "      <td>...</td>\n",
       "      <td>6.66489e-02</td>\n",
       "      <td>1.34336e-01</td>\n",
       "      <td>2.22292e-01</td>\n",
       "      <td>3.21856e-01</td>\n",
       "      <td>4.25727e-01</td>\n",
       "      <td>5.81185e-01</td>\n",
       "      <td>6.71899e-01</td>\n",
       "      <td>7.03626e-01</td>\n",
       "      <td>6.99298e-01</td>\n",
       "      <td>0.00000e+00</td>\n",
       "    </tr>\n",
       "    <tr>\n",
       "      <th>95</th>\n",
       "      <td>4.02209e-04</td>\n",
       "      <td>1.00364e-03</td>\n",
       "      <td>-2.16111e-03</td>\n",
       "      <td>-2.22540e-03</td>\n",
       "      <td>-2.28891e-03</td>\n",
       "      <td>-2.42620e-03</td>\n",
       "      <td>-2.55909e-03</td>\n",
       "      <td>-2.66459e-03</td>\n",
       "      <td>-2.74650e-03</td>\n",
       "      <td>-2.91497e-03</td>\n",
       "      <td>...</td>\n",
       "      <td>1.67091e-02</td>\n",
       "      <td>8.71704e-02</td>\n",
       "      <td>1.93131e-01</td>\n",
       "      <td>3.20324e-01</td>\n",
       "      <td>4.58330e-01</td>\n",
       "      <td>6.71899e-01</td>\n",
       "      <td>8.02424e-01</td>\n",
       "      <td>8.49672e-01</td>\n",
       "      <td>8.49117e-01</td>\n",
       "      <td>0.00000e+00</td>\n",
       "    </tr>\n",
       "    <tr>\n",
       "      <th>96</th>\n",
       "      <td>4.18267e-04</td>\n",
       "      <td>1.25044e-03</td>\n",
       "      <td>-2.30965e-03</td>\n",
       "      <td>-2.37902e-03</td>\n",
       "      <td>-2.44791e-03</td>\n",
       "      <td>-2.59617e-03</td>\n",
       "      <td>-2.74017e-03</td>\n",
       "      <td>-2.85473e-03</td>\n",
       "      <td>-2.94311e-03</td>\n",
       "      <td>-3.12379e-03</td>\n",
       "      <td>...</td>\n",
       "      <td>-1.58147e-03</td>\n",
       "      <td>6.83427e-02</td>\n",
       "      <td>1.80421e-01</td>\n",
       "      <td>3.17648e-01</td>\n",
       "      <td>4.68239e-01</td>\n",
       "      <td>7.03626e-01</td>\n",
       "      <td>8.49672e-01</td>\n",
       "      <td>9.03303e-01</td>\n",
       "      <td>9.04415e-01</td>\n",
       "      <td>0.00000e+00</td>\n",
       "    </tr>\n",
       "    <tr>\n",
       "      <th>97</th>\n",
       "      <td>4.24544e-04</td>\n",
       "      <td>1.33479e-03</td>\n",
       "      <td>-2.30495e-03</td>\n",
       "      <td>-2.37511e-03</td>\n",
       "      <td>-2.44495e-03</td>\n",
       "      <td>-2.59493e-03</td>\n",
       "      <td>-2.74089e-03</td>\n",
       "      <td>-2.85710e-03</td>\n",
       "      <td>-2.94652e-03</td>\n",
       "      <td>-3.12872e-03</td>\n",
       "      <td>...</td>\n",
       "      <td>-1.16423e-02</td>\n",
       "      <td>5.61071e-02</td>\n",
       "      <td>1.68103e-01</td>\n",
       "      <td>3.06565e-01</td>\n",
       "      <td>4.59358e-01</td>\n",
       "      <td>6.99298e-01</td>\n",
       "      <td>8.49117e-01</td>\n",
       "      <td>9.04415e-01</td>\n",
       "      <td>9.06356e-01</td>\n",
       "      <td>0.00000e+00</td>\n",
       "    </tr>\n",
       "    <tr>\n",
       "      <th>98</th>\n",
       "      <td>0.00000e+00</td>\n",
       "      <td>0.00000e+00</td>\n",
       "      <td>0.00000e+00</td>\n",
       "      <td>0.00000e+00</td>\n",
       "      <td>0.00000e+00</td>\n",
       "      <td>0.00000e+00</td>\n",
       "      <td>0.00000e+00</td>\n",
       "      <td>0.00000e+00</td>\n",
       "      <td>0.00000e+00</td>\n",
       "      <td>0.00000e+00</td>\n",
       "      <td>...</td>\n",
       "      <td>0.00000e+00</td>\n",
       "      <td>0.00000e+00</td>\n",
       "      <td>0.00000e+00</td>\n",
       "      <td>0.00000e+00</td>\n",
       "      <td>0.00000e+00</td>\n",
       "      <td>0.00000e+00</td>\n",
       "      <td>0.00000e+00</td>\n",
       "      <td>0.00000e+00</td>\n",
       "      <td>0.00000e+00</td>\n",
       "      <td>0.00000e+00</td>\n",
       "    </tr>\n",
       "  </tbody>\n",
       "</table>\n",
       "<p>99 rows × 99 columns</p>\n",
       "</div>"
      ],
      "text/plain": [
       "             0            1            2            3            4   \\\n",
       "0   4.00048e-02  5.98436e-05 -3.92647e-04 -3.84067e-04 -3.75754e-04   \n",
       "1   5.98436e-05  4.04883e-02 -1.79973e-04 -1.81088e-04 -1.80794e-04   \n",
       "2  -3.92647e-04 -1.79973e-04  5.09542e-02  5.09293e-02  5.08666e-02   \n",
       "3  -3.84067e-04 -1.81088e-04  5.09293e-02  5.09358e-02  5.09079e-02   \n",
       "4  -3.75754e-04 -1.80794e-04  5.08666e-02  5.09079e-02  5.09189e-02   \n",
       "..          ...          ...          ...          ...          ...   \n",
       "94  3.18997e-04  4.75232e-04 -1.86801e-03 -1.91669e-03 -1.96387e-03   \n",
       "95  4.02209e-04  1.00364e-03 -2.16111e-03 -2.22540e-03 -2.28891e-03   \n",
       "96  4.18267e-04  1.25044e-03 -2.30965e-03 -2.37902e-03 -2.44791e-03   \n",
       "97  4.24544e-04  1.33479e-03 -2.30495e-03 -2.37511e-03 -2.44495e-03   \n",
       "98  0.00000e+00  0.00000e+00  0.00000e+00  0.00000e+00  0.00000e+00   \n",
       "\n",
       "             5            6            7            8            9   ...  \\\n",
       "0  -3.57726e-04 -3.38367e-04 -3.22556e-04 -3.07676e-04 -2.74470e-04  ...   \n",
       "1  -1.83400e-04 -1.83638e-04 -1.82826e-04 -1.82604e-04 -1.78755e-04  ...   \n",
       "2   5.06090e-02  5.01606e-02  4.96654e-02  4.92261e-02  4.81917e-02  ...   \n",
       "3   5.07222e-02  5.03485e-02  4.99126e-02  4.95165e-02  4.85625e-02  ...   \n",
       "4   5.08137e-02  5.05235e-02  5.01545e-02  4.98069e-02  4.89439e-02  ...   \n",
       "..          ...          ...          ...          ...          ...  ...   \n",
       "94 -2.06785e-03 -2.16674e-03 -2.24508e-03 -2.30720e-03 -2.43846e-03  ...   \n",
       "95 -2.42620e-03 -2.55909e-03 -2.66459e-03 -2.74650e-03 -2.91497e-03  ...   \n",
       "96 -2.59617e-03 -2.74017e-03 -2.85473e-03 -2.94311e-03 -3.12379e-03  ...   \n",
       "97 -2.59493e-03 -2.74089e-03 -2.85710e-03 -2.94652e-03 -3.12872e-03  ...   \n",
       "98  0.00000e+00  0.00000e+00  0.00000e+00  0.00000e+00  0.00000e+00  ...   \n",
       "\n",
       "             89           90           91           92           93  \\\n",
       "0   4.55143e-04  3.06360e-04  1.91340e-04  1.81393e-04  2.06283e-04   \n",
       "1  -8.31376e-04 -9.64756e-04 -8.13495e-04 -5.37095e-04 -1.74075e-04   \n",
       "2  -4.22971e-04 -5.64607e-04 -8.54418e-04 -1.15239e-03 -1.43982e-03   \n",
       "3  -4.01526e-04 -5.49476e-04 -8.49430e-04 -1.16049e-03 -1.46338e-03   \n",
       "4  -3.77711e-04 -5.31561e-04 -8.41674e-04 -1.16602e-03 -1.48471e-03   \n",
       "..          ...          ...          ...          ...          ...   \n",
       "94  6.66489e-02  1.34336e-01  2.22292e-01  3.21856e-01  4.25727e-01   \n",
       "95  1.67091e-02  8.71704e-02  1.93131e-01  3.20324e-01  4.58330e-01   \n",
       "96 -1.58147e-03  6.83427e-02  1.80421e-01  3.17648e-01  4.68239e-01   \n",
       "97 -1.16423e-02  5.61071e-02  1.68103e-01  3.06565e-01  4.59358e-01   \n",
       "98  0.00000e+00  0.00000e+00  0.00000e+00  0.00000e+00  0.00000e+00   \n",
       "\n",
       "             94           95           96           97          98  \n",
       "0   3.18997e-04  4.02209e-04  4.18267e-04  4.24544e-04 0.00000e+00  \n",
       "1   4.75232e-04  1.00364e-03  1.25044e-03  1.33479e-03 0.00000e+00  \n",
       "2  -1.86801e-03 -2.16111e-03 -2.30965e-03 -2.30495e-03 0.00000e+00  \n",
       "3  -1.91669e-03 -2.22540e-03 -2.37902e-03 -2.37511e-03 0.00000e+00  \n",
       "4  -1.96387e-03 -2.28891e-03 -2.44791e-03 -2.44495e-03 0.00000e+00  \n",
       "..          ...          ...          ...          ...         ...  \n",
       "94  5.81185e-01  6.71899e-01  7.03626e-01  6.99298e-01 0.00000e+00  \n",
       "95  6.71899e-01  8.02424e-01  8.49672e-01  8.49117e-01 0.00000e+00  \n",
       "96  7.03626e-01  8.49672e-01  9.03303e-01  9.04415e-01 0.00000e+00  \n",
       "97  6.99298e-01  8.49117e-01  9.04415e-01  9.06356e-01 0.00000e+00  \n",
       "98  0.00000e+00  0.00000e+00  0.00000e+00  0.00000e+00 0.00000e+00  \n",
       "\n",
       "[99 rows x 99 columns]"
      ]
     },
     "execution_count": 25,
     "metadata": {},
     "output_type": "execute_result"
    }
   ],
   "source": [
    "pd.DataFrame(np.cov(CatCov.sampling(nsmp=10000, tolerance=0).data.T))"
   ]
  },
  {
   "cell_type": "code",
   "execution_count": 26,
   "id": "085663ec",
   "metadata": {},
   "outputs": [
    {
     "name": "stderr",
     "output_type": "stream",
     "text": [
      "C:\\Users\\fgrimald\\Anaconda3\\envs\\sandy-devel\\lib\\site-packages\\ipykernel_launcher.py:1: RuntimeWarning: covariance is not positive-semidefinite.\n",
      "  \"\"\"Entry point for launching an IPython kernel.\n"
     ]
    },
    {
     "data": {
      "text/html": [
       "<div>\n",
       "<style scoped>\n",
       "    .dataframe tbody tr th:only-of-type {\n",
       "        vertical-align: middle;\n",
       "    }\n",
       "\n",
       "    .dataframe tbody tr th {\n",
       "        vertical-align: top;\n",
       "    }\n",
       "\n",
       "    .dataframe thead th {\n",
       "        text-align: right;\n",
       "    }\n",
       "</style>\n",
       "<table border=\"1\" class=\"dataframe\">\n",
       "  <thead>\n",
       "    <tr style=\"text-align: right;\">\n",
       "      <th></th>\n",
       "      <th>0</th>\n",
       "      <th>1</th>\n",
       "      <th>2</th>\n",
       "      <th>3</th>\n",
       "      <th>4</th>\n",
       "      <th>5</th>\n",
       "      <th>6</th>\n",
       "      <th>7</th>\n",
       "      <th>8</th>\n",
       "      <th>9</th>\n",
       "      <th>...</th>\n",
       "      <th>89</th>\n",
       "      <th>90</th>\n",
       "      <th>91</th>\n",
       "      <th>92</th>\n",
       "      <th>93</th>\n",
       "      <th>94</th>\n",
       "      <th>95</th>\n",
       "      <th>96</th>\n",
       "      <th>97</th>\n",
       "      <th>98</th>\n",
       "    </tr>\n",
       "  </thead>\n",
       "  <tbody>\n",
       "    <tr>\n",
       "      <th>0</th>\n",
       "      <td>3.97923e-02</td>\n",
       "      <td>-5.12307e-04</td>\n",
       "      <td>2.64922e-04</td>\n",
       "      <td>2.70270e-04</td>\n",
       "      <td>2.78483e-04</td>\n",
       "      <td>2.93023e-04</td>\n",
       "      <td>3.10904e-04</td>\n",
       "      <td>3.26770e-04</td>\n",
       "      <td>3.41203e-04</td>\n",
       "      <td>3.74337e-04</td>\n",
       "      <td>...</td>\n",
       "      <td>5.71236e-04</td>\n",
       "      <td>4.75553e-04</td>\n",
       "      <td>3.60468e-04</td>\n",
       "      <td>2.43665e-04</td>\n",
       "      <td>1.03731e-04</td>\n",
       "      <td>-1.09046e-04</td>\n",
       "      <td>-2.41247e-04</td>\n",
       "      <td>-2.81858e-04</td>\n",
       "      <td>-2.91476e-04</td>\n",
       "      <td>1.03116e-13</td>\n",
       "    </tr>\n",
       "    <tr>\n",
       "      <th>1</th>\n",
       "      <td>-5.12307e-04</td>\n",
       "      <td>3.96743e-02</td>\n",
       "      <td>-2.81972e-04</td>\n",
       "      <td>-2.80815e-04</td>\n",
       "      <td>-2.82006e-04</td>\n",
       "      <td>-2.82128e-04</td>\n",
       "      <td>-2.82559e-04</td>\n",
       "      <td>-2.81772e-04</td>\n",
       "      <td>-2.81187e-04</td>\n",
       "      <td>-2.82300e-04</td>\n",
       "      <td>...</td>\n",
       "      <td>2.89908e-04</td>\n",
       "      <td>3.38865e-04</td>\n",
       "      <td>2.95434e-04</td>\n",
       "      <td>1.01947e-04</td>\n",
       "      <td>-1.66066e-04</td>\n",
       "      <td>-6.62572e-04</td>\n",
       "      <td>-9.92465e-04</td>\n",
       "      <td>-1.09084e-03</td>\n",
       "      <td>-1.13333e-03</td>\n",
       "      <td>-2.18815e-11</td>\n",
       "    </tr>\n",
       "    <tr>\n",
       "      <th>2</th>\n",
       "      <td>2.64922e-04</td>\n",
       "      <td>-2.81972e-04</td>\n",
       "      <td>5.05974e-02</td>\n",
       "      <td>5.05577e-02</td>\n",
       "      <td>5.04771e-02</td>\n",
       "      <td>5.01845e-02</td>\n",
       "      <td>4.97021e-02</td>\n",
       "      <td>4.91794e-02</td>\n",
       "      <td>4.87211e-02</td>\n",
       "      <td>4.76486e-02</td>\n",
       "      <td>...</td>\n",
       "      <td>2.35513e-04</td>\n",
       "      <td>8.22244e-05</td>\n",
       "      <td>3.75567e-05</td>\n",
       "      <td>8.40340e-05</td>\n",
       "      <td>1.52724e-04</td>\n",
       "      <td>3.30908e-04</td>\n",
       "      <td>5.14868e-04</td>\n",
       "      <td>6.15117e-04</td>\n",
       "      <td>6.46696e-04</td>\n",
       "      <td>-1.86658e-11</td>\n",
       "    </tr>\n",
       "    <tr>\n",
       "      <th>3</th>\n",
       "      <td>2.70270e-04</td>\n",
       "      <td>-2.80815e-04</td>\n",
       "      <td>5.05577e-02</td>\n",
       "      <td>5.05495e-02</td>\n",
       "      <td>5.05038e-02</td>\n",
       "      <td>5.02834e-02</td>\n",
       "      <td>4.98759e-02</td>\n",
       "      <td>4.94131e-02</td>\n",
       "      <td>4.89982e-02</td>\n",
       "      <td>4.80072e-02</td>\n",
       "      <td>...</td>\n",
       "      <td>2.49482e-04</td>\n",
       "      <td>9.74075e-05</td>\n",
       "      <td>4.30587e-05</td>\n",
       "      <td>7.44618e-05</td>\n",
       "      <td>1.24402e-04</td>\n",
       "      <td>2.71001e-04</td>\n",
       "      <td>4.32333e-04</td>\n",
       "      <td>5.22737e-04</td>\n",
       "      <td>5.52274e-04</td>\n",
       "      <td>-1.80195e-11</td>\n",
       "    </tr>\n",
       "    <tr>\n",
       "      <th>4</th>\n",
       "      <td>2.78483e-04</td>\n",
       "      <td>-2.82006e-04</td>\n",
       "      <td>5.04771e-02</td>\n",
       "      <td>5.05038e-02</td>\n",
       "      <td>5.04973e-02</td>\n",
       "      <td>5.03577e-02</td>\n",
       "      <td>5.00345e-02</td>\n",
       "      <td>4.96393e-02</td>\n",
       "      <td>4.92733e-02</td>\n",
       "      <td>4.83745e-02</td>\n",
       "      <td>...</td>\n",
       "      <td>2.66310e-04</td>\n",
       "      <td>1.13699e-04</td>\n",
       "      <td>4.61071e-05</td>\n",
       "      <td>5.78576e-05</td>\n",
       "      <td>8.38165e-05</td>\n",
       "      <td>1.90495e-04</td>\n",
       "      <td>3.23760e-04</td>\n",
       "      <td>4.02228e-04</td>\n",
       "      <td>4.29494e-04</td>\n",
       "      <td>-1.69466e-11</td>\n",
       "    </tr>\n",
       "    <tr>\n",
       "      <th>...</th>\n",
       "      <td>...</td>\n",
       "      <td>...</td>\n",
       "      <td>...</td>\n",
       "      <td>...</td>\n",
       "      <td>...</td>\n",
       "      <td>...</td>\n",
       "      <td>...</td>\n",
       "      <td>...</td>\n",
       "      <td>...</td>\n",
       "      <td>...</td>\n",
       "      <td>...</td>\n",
       "      <td>...</td>\n",
       "      <td>...</td>\n",
       "      <td>...</td>\n",
       "      <td>...</td>\n",
       "      <td>...</td>\n",
       "      <td>...</td>\n",
       "      <td>...</td>\n",
       "      <td>...</td>\n",
       "      <td>...</td>\n",
       "      <td>...</td>\n",
       "    </tr>\n",
       "    <tr>\n",
       "      <th>94</th>\n",
       "      <td>-1.09046e-04</td>\n",
       "      <td>-6.62572e-04</td>\n",
       "      <td>3.30908e-04</td>\n",
       "      <td>2.71001e-04</td>\n",
       "      <td>1.90495e-04</td>\n",
       "      <td>4.68781e-05</td>\n",
       "      <td>-1.17262e-04</td>\n",
       "      <td>-2.34838e-04</td>\n",
       "      <td>-3.21934e-04</td>\n",
       "      <td>-4.52706e-04</td>\n",
       "      <td>...</td>\n",
       "      <td>6.80709e-02</td>\n",
       "      <td>1.34001e-01</td>\n",
       "      <td>2.19665e-01</td>\n",
       "      <td>3.16311e-01</td>\n",
       "      <td>4.16910e-01</td>\n",
       "      <td>5.67194e-01</td>\n",
       "      <td>6.54883e-01</td>\n",
       "      <td>6.85644e-01</td>\n",
       "      <td>6.81299e-01</td>\n",
       "      <td>3.02525e-12</td>\n",
       "    </tr>\n",
       "    <tr>\n",
       "      <th>95</th>\n",
       "      <td>-2.41247e-04</td>\n",
       "      <td>-9.92465e-04</td>\n",
       "      <td>5.14868e-04</td>\n",
       "      <td>4.32333e-04</td>\n",
       "      <td>3.23760e-04</td>\n",
       "      <td>1.27074e-04</td>\n",
       "      <td>-9.64458e-05</td>\n",
       "      <td>-2.59425e-04</td>\n",
       "      <td>-3.81619e-04</td>\n",
       "      <td>-5.73470e-04</td>\n",
       "      <td>...</td>\n",
       "      <td>1.58949e-02</td>\n",
       "      <td>8.41742e-02</td>\n",
       "      <td>1.87571e-01</td>\n",
       "      <td>3.11682e-01</td>\n",
       "      <td>4.46379e-01</td>\n",
       "      <td>6.54883e-01</td>\n",
       "      <td>7.82565e-01</td>\n",
       "      <td>8.28925e-01</td>\n",
       "      <td>8.28476e-01</td>\n",
       "      <td>-4.49642e-12</td>\n",
       "    </tr>\n",
       "    <tr>\n",
       "      <th>96</th>\n",
       "      <td>-2.81858e-04</td>\n",
       "      <td>-1.09084e-03</td>\n",
       "      <td>6.15117e-04</td>\n",
       "      <td>5.22737e-04</td>\n",
       "      <td>4.02228e-04</td>\n",
       "      <td>1.82772e-04</td>\n",
       "      <td>-6.63363e-05</td>\n",
       "      <td>-2.49052e-04</td>\n",
       "      <td>-3.86553e-04</td>\n",
       "      <td>-6.05730e-04</td>\n",
       "      <td>...</td>\n",
       "      <td>-3.25340e-03</td>\n",
       "      <td>6.43835e-02</td>\n",
       "      <td>1.73833e-01</td>\n",
       "      <td>3.07948e-01</td>\n",
       "      <td>4.55244e-01</td>\n",
       "      <td>6.85644e-01</td>\n",
       "      <td>8.28925e-01</td>\n",
       "      <td>8.81693e-01</td>\n",
       "      <td>8.82951e-01</td>\n",
       "      <td>-9.88098e-12</td>\n",
       "    </tr>\n",
       "    <tr>\n",
       "      <th>97</th>\n",
       "      <td>-2.91476e-04</td>\n",
       "      <td>-1.13333e-03</td>\n",
       "      <td>6.46696e-04</td>\n",
       "      <td>5.52274e-04</td>\n",
       "      <td>4.29494e-04</td>\n",
       "      <td>2.05392e-04</td>\n",
       "      <td>-4.88375e-05</td>\n",
       "      <td>-2.35855e-04</td>\n",
       "      <td>-3.76796e-04</td>\n",
       "      <td>-6.02882e-04</td>\n",
       "      <td>...</td>\n",
       "      <td>-1.37242e-02</td>\n",
       "      <td>5.17390e-02</td>\n",
       "      <td>1.61141e-01</td>\n",
       "      <td>2.96562e-01</td>\n",
       "      <td>4.46161e-01</td>\n",
       "      <td>6.81299e-01</td>\n",
       "      <td>8.28476e-01</td>\n",
       "      <td>8.82951e-01</td>\n",
       "      <td>8.85054e-01</td>\n",
       "      <td>-1.07296e-11</td>\n",
       "    </tr>\n",
       "    <tr>\n",
       "      <th>98</th>\n",
       "      <td>1.03116e-13</td>\n",
       "      <td>-2.18815e-11</td>\n",
       "      <td>-1.86658e-11</td>\n",
       "      <td>-1.80195e-11</td>\n",
       "      <td>-1.69466e-11</td>\n",
       "      <td>-1.51540e-11</td>\n",
       "      <td>-1.29251e-11</td>\n",
       "      <td>-1.08693e-11</td>\n",
       "      <td>-9.42901e-12</td>\n",
       "      <td>-6.75463e-12</td>\n",
       "      <td>...</td>\n",
       "      <td>3.65484e-11</td>\n",
       "      <td>3.14966e-11</td>\n",
       "      <td>2.18498e-11</td>\n",
       "      <td>1.60042e-11</td>\n",
       "      <td>1.06571e-11</td>\n",
       "      <td>3.02525e-12</td>\n",
       "      <td>-4.49642e-12</td>\n",
       "      <td>-9.88098e-12</td>\n",
       "      <td>-1.07296e-11</td>\n",
       "      <td>2.78388e-16</td>\n",
       "    </tr>\n",
       "  </tbody>\n",
       "</table>\n",
       "<p>99 rows × 99 columns</p>\n",
       "</div>"
      ],
      "text/plain": [
       "             0            1            2            3            4   \\\n",
       "0   3.97923e-02 -5.12307e-04  2.64922e-04  2.70270e-04  2.78483e-04   \n",
       "1  -5.12307e-04  3.96743e-02 -2.81972e-04 -2.80815e-04 -2.82006e-04   \n",
       "2   2.64922e-04 -2.81972e-04  5.05974e-02  5.05577e-02  5.04771e-02   \n",
       "3   2.70270e-04 -2.80815e-04  5.05577e-02  5.05495e-02  5.05038e-02   \n",
       "4   2.78483e-04 -2.82006e-04  5.04771e-02  5.05038e-02  5.04973e-02   \n",
       "..          ...          ...          ...          ...          ...   \n",
       "94 -1.09046e-04 -6.62572e-04  3.30908e-04  2.71001e-04  1.90495e-04   \n",
       "95 -2.41247e-04 -9.92465e-04  5.14868e-04  4.32333e-04  3.23760e-04   \n",
       "96 -2.81858e-04 -1.09084e-03  6.15117e-04  5.22737e-04  4.02228e-04   \n",
       "97 -2.91476e-04 -1.13333e-03  6.46696e-04  5.52274e-04  4.29494e-04   \n",
       "98  1.03116e-13 -2.18815e-11 -1.86658e-11 -1.80195e-11 -1.69466e-11   \n",
       "\n",
       "             5            6            7            8            9   ...  \\\n",
       "0   2.93023e-04  3.10904e-04  3.26770e-04  3.41203e-04  3.74337e-04  ...   \n",
       "1  -2.82128e-04 -2.82559e-04 -2.81772e-04 -2.81187e-04 -2.82300e-04  ...   \n",
       "2   5.01845e-02  4.97021e-02  4.91794e-02  4.87211e-02  4.76486e-02  ...   \n",
       "3   5.02834e-02  4.98759e-02  4.94131e-02  4.89982e-02  4.80072e-02  ...   \n",
       "4   5.03577e-02  5.00345e-02  4.96393e-02  4.92733e-02  4.83745e-02  ...   \n",
       "..          ...          ...          ...          ...          ...  ...   \n",
       "94  4.68781e-05 -1.17262e-04 -2.34838e-04 -3.21934e-04 -4.52706e-04  ...   \n",
       "95  1.27074e-04 -9.64458e-05 -2.59425e-04 -3.81619e-04 -5.73470e-04  ...   \n",
       "96  1.82772e-04 -6.63363e-05 -2.49052e-04 -3.86553e-04 -6.05730e-04  ...   \n",
       "97  2.05392e-04 -4.88375e-05 -2.35855e-04 -3.76796e-04 -6.02882e-04  ...   \n",
       "98 -1.51540e-11 -1.29251e-11 -1.08693e-11 -9.42901e-12 -6.75463e-12  ...   \n",
       "\n",
       "             89          90          91          92           93           94  \\\n",
       "0   5.71236e-04 4.75553e-04 3.60468e-04 2.43665e-04  1.03731e-04 -1.09046e-04   \n",
       "1   2.89908e-04 3.38865e-04 2.95434e-04 1.01947e-04 -1.66066e-04 -6.62572e-04   \n",
       "2   2.35513e-04 8.22244e-05 3.75567e-05 8.40340e-05  1.52724e-04  3.30908e-04   \n",
       "3   2.49482e-04 9.74075e-05 4.30587e-05 7.44618e-05  1.24402e-04  2.71001e-04   \n",
       "4   2.66310e-04 1.13699e-04 4.61071e-05 5.78576e-05  8.38165e-05  1.90495e-04   \n",
       "..          ...         ...         ...         ...          ...          ...   \n",
       "94  6.80709e-02 1.34001e-01 2.19665e-01 3.16311e-01  4.16910e-01  5.67194e-01   \n",
       "95  1.58949e-02 8.41742e-02 1.87571e-01 3.11682e-01  4.46379e-01  6.54883e-01   \n",
       "96 -3.25340e-03 6.43835e-02 1.73833e-01 3.07948e-01  4.55244e-01  6.85644e-01   \n",
       "97 -1.37242e-02 5.17390e-02 1.61141e-01 2.96562e-01  4.46161e-01  6.81299e-01   \n",
       "98  3.65484e-11 3.14966e-11 2.18498e-11 1.60042e-11  1.06571e-11  3.02525e-12   \n",
       "\n",
       "             95           96           97           98  \n",
       "0  -2.41247e-04 -2.81858e-04 -2.91476e-04  1.03116e-13  \n",
       "1  -9.92465e-04 -1.09084e-03 -1.13333e-03 -2.18815e-11  \n",
       "2   5.14868e-04  6.15117e-04  6.46696e-04 -1.86658e-11  \n",
       "3   4.32333e-04  5.22737e-04  5.52274e-04 -1.80195e-11  \n",
       "4   3.23760e-04  4.02228e-04  4.29494e-04 -1.69466e-11  \n",
       "..          ...          ...          ...          ...  \n",
       "94  6.54883e-01  6.85644e-01  6.81299e-01  3.02525e-12  \n",
       "95  7.82565e-01  8.28925e-01  8.28476e-01 -4.49642e-12  \n",
       "96  8.28925e-01  8.81693e-01  8.82951e-01 -9.88098e-12  \n",
       "97  8.28476e-01  8.82951e-01  8.85054e-01 -1.07296e-11  \n",
       "98 -4.49642e-12 -9.88098e-12 -1.07296e-11  2.78388e-16  \n",
       "\n",
       "[99 rows x 99 columns]"
      ]
     },
     "execution_count": 26,
     "metadata": {},
     "output_type": "execute_result"
    }
   ],
   "source": [
    "df = pd.DataFrame(np.random.multivariate_normal(np.ones(len(Cov)), Cov, size=10000))\n",
    "df.cov()"
   ]
  },
  {
   "cell_type": "code",
   "execution_count": 27,
   "id": "1e098a12",
   "metadata": {},
   "outputs": [
    {
     "data": {
      "text/plain": [
       "0"
      ]
     },
     "execution_count": 27,
     "metadata": {},
     "output_type": "execute_result"
    }
   ],
   "source": [
    "import os\n",
    "os.system('jupyter nbconvert --to html random_multivariate.ipynb')"
   ]
  },
  {
   "cell_type": "code",
   "execution_count": null,
   "id": "875b26b9",
   "metadata": {},
   "outputs": [],
   "source": []
  }
 ],
 "metadata": {
  "kernelspec": {
   "display_name": "Python3 (sandy-devel)",
   "language": "python",
   "name": "sandy-devel"
  },
  "language_info": {
   "codemirror_mode": {
    "name": "ipython",
    "version": 3
   },
   "file_extension": ".py",
   "mimetype": "text/x-python",
   "name": "python",
   "nbconvert_exporter": "python",
   "pygments_lexer": "ipython3",
   "version": "3.7.12"
  }
 },
 "nbformat": 4,
 "nbformat_minor": 5
}
