{
 "cells": [
  {
   "cell_type": "code",
   "execution_count": 1,
   "id": "e2a33153-f8fc-41dd-9630-64d2bc9fcf16",
   "metadata": {},
   "outputs": [],
   "source": [
    "import sandy\n",
    "import numpy as np\n",
    "import pandas as pd\n",
    "import seaborn as sns\n",
    "from scipy.stats import norm\n",
    "from scipy.stats import lognorm\n",
    "import scipy"
   ]
  },
  {
   "cell_type": "code",
   "execution_count": 2,
   "id": "5d35a3a9-da85-4261-b660-1d7a410dd921",
   "metadata": {},
   "outputs": [],
   "source": [
    "endf6 = sandy.get_endf6_file(\"jeff_33\", \"xs\", 922350)"
   ]
  },
  {
   "cell_type": "code",
   "execution_count": 3,
   "id": "6ebcc329-76dd-4f0a-86ef-ddd45d086f31",
   "metadata": {},
   "outputs": [
    {
     "name": "stdout",
     "output_type": "stream",
     "text": [
      "\n",
      " njoy 2016.66  18Nov21                                       03/14/22 23:01:01\n",
      " *****************************************************************************\n",
      "\n",
      " moder...                                                                 0.0s\n",
      "\n",
      " reconr...                                                                0.1s\n",
      "\n",
      " ---message from rdf2bw---calculation of angular distribution not installed.\n",
      "\n",
      " moder...                                                                 4.1s\n",
      "\n",
      " errorr...                                                                4.6s\n",
      "\n",
      " processing mat  9228\n",
      " ---------------------\n",
      "  92-U -235 IRSN-CEA   EVAL-DEC14 IRSN-CEA DAM/DEN COLLAB.           \n",
      "\n",
      " covariances calculated for  8 reactions and  248 groups                  4.8s\n",
      "                                                                          6.0s\n",
      " *****************************************************************************\n"
     ]
    }
   ],
   "source": [
    "ek = sandy.energy_grids.CASMO12\n",
    "err = endf6.get_errorr(err=1)\n",
    "cov = err.get_cov()"
   ]
  },
  {
   "cell_type": "code",
   "execution_count": 4,
   "id": "4a8511bf",
   "metadata": {},
   "outputs": [
    {
     "data": {
      "text/plain": [
       "(1928, 1928)"
      ]
     },
     "execution_count": 4,
     "metadata": {},
     "output_type": "execute_result"
    }
   ],
   "source": [
    "cov.data.shape"
   ]
  },
  {
   "cell_type": "markdown",
   "id": "89f89fad",
   "metadata": {},
   "source": [
    "# Not semi-positive definite:"
   ]
  },
  {
   "cell_type": "code",
   "execution_count": 5,
   "id": "7a48e587",
   "metadata": {},
   "outputs": [],
   "source": [
    "idx, cov_ = sandy.cov.reduce_size(cov.data)"
   ]
  },
  {
   "cell_type": "code",
   "execution_count": 6,
   "id": "c706f79a",
   "metadata": {},
   "outputs": [
    {
     "data": {
      "text/plain": [
       "1230"
      ]
     },
     "execution_count": 6,
     "metadata": {},
     "output_type": "execute_result"
    }
   ],
   "source": [
    "len(cov_)"
   ]
  },
  {
   "cell_type": "code",
   "execution_count": 7,
   "id": "d17f4b78",
   "metadata": {},
   "outputs": [
    {
     "data": {
      "text/plain": [
       "566"
      ]
     },
     "execution_count": 7,
     "metadata": {},
     "output_type": "execute_result"
    }
   ],
   "source": [
    "E = np.linalg.eig(cov_)[0].real\n",
    "V = np.linalg.eig(cov_)[1]\n",
    "E[E<0]=0\n",
    "len(E[E==0])"
   ]
  },
  {
   "cell_type": "code",
   "execution_count": 8,
   "id": "34146c8a",
   "metadata": {},
   "outputs": [],
   "source": [
    "Cov_ = V.dot(np.diag(E)).dot(np.linalg.inv(V))"
   ]
  },
  {
   "cell_type": "code",
   "execution_count": 9,
   "id": "9b01a0c8",
   "metadata": {},
   "outputs": [],
   "source": [
    "E_= np.linalg.eig(Cov_)[0].real"
   ]
  },
  {
   "cell_type": "code",
   "execution_count": 10,
   "id": "034c573d",
   "metadata": {},
   "outputs": [
    {
     "data": {
      "text/plain": [
       "(549, -2.07601400896929e-16)"
      ]
     },
     "execution_count": 10,
     "metadata": {},
     "output_type": "execute_result"
    }
   ],
   "source": [
    "len(E_[E_<0]), E_.min()"
   ]
  },
  {
   "cell_type": "code",
   "execution_count": 11,
   "id": "8bd721a6",
   "metadata": {},
   "outputs": [
    {
     "name": "stderr",
     "output_type": "stream",
     "text": [
      "/home/enrica/sandy/sandy/core/cov.py:2488: ComplexWarning: Casting complex values to real discards the imaginary part\n",
      "  mat[ni, nonzero_idxs] = mat_reduced[i]\n"
     ]
    }
   ],
   "source": [
    "COV = sandy.cov.restore_size(idx, Cov_, cov.data.shape[0])"
   ]
  },
  {
   "cell_type": "code",
   "execution_count": 12,
   "id": "16bec360",
   "metadata": {},
   "outputs": [],
   "source": [
    "E_COV= np.linalg.eig(COV)[0].real"
   ]
  },
  {
   "cell_type": "code",
   "execution_count": 13,
   "id": "10c3d9c4",
   "metadata": {},
   "outputs": [
    {
     "data": {
      "text/plain": [
       "(557, -2.76501352329474e-16)"
      ]
     },
     "execution_count": 13,
     "metadata": {},
     "output_type": "execute_result"
    }
   ],
   "source": [
    "len(E_COV[E_COV<0]), E_COV.min()"
   ]
  },
  {
   "cell_type": "markdown",
   "id": "0462c783",
   "metadata": {},
   "source": [
    "# Normal"
   ]
  },
  {
   "cell_type": "code",
   "execution_count": 14,
   "id": "2af65889-0428-46d9-8477-545a69318a71",
   "metadata": {},
   "outputs": [],
   "source": [
    "df = pd.DataFrame(np.random.multivariate_normal(np.ones(len(cov.data)), COV, size=10000))"
   ]
  },
  {
   "cell_type": "code",
   "execution_count": 15,
   "id": "dd6f6468",
   "metadata": {},
   "outputs": [
    {
     "name": "stderr",
     "output_type": "stream",
     "text": [
      "/home/enrica/anaconda3/envs/sandy-devel/lib/python3.7/site-packages/seaborn/distributions.py:2619: FutureWarning: `distplot` is a deprecated function and will be removed in a future version. Please adapt your code to use either `displot` (a figure-level function with similar flexibility) or `histplot` (an axes-level function for histograms).\n",
      "  warnings.warn(msg, FutureWarning)\n"
     ]
    },
    {
     "name": "stdout",
     "output_type": "stream",
     "text": [
      "\n",
      "\n",
      "mean: [0.9949891841817209, 1.0020712878150115]\n"
     ]
    },
    {
     "data": {
      "image/png": "[encoded data removed]",
      "text/plain": [
       "<Figure size 432x288 with 1 Axes>"
      ]
     },
     "metadata": {
      "needs_background": "light"
     },
     "output_type": "display_data"
    }
   ],
   "source": [
    "sns.distplot(x=df.iloc[0,:], bins= 20, fit=norm, kde=False)\n",
    "print(f\"\"\"\n",
    "\n",
    "mean: {[df.iloc[0,:].mean(), df.iloc[-1,:].mean()]}\"\"\")"
   ]
  },
  {
   "cell_type": "code",
   "execution_count": 16,
   "id": "56be5814",
   "metadata": {},
   "outputs": [
    {
     "data": {
      "text/plain": [
       "0.28805011918149703"
      ]
     },
     "execution_count": 16,
     "metadata": {},
     "output_type": "execute_result"
    }
   ],
   "source": [
    "df.values.min()"
   ]
  },
  {
   "cell_type": "code",
   "execution_count": 17,
   "id": "887aa4ff",
   "metadata": {},
   "outputs": [],
   "source": [
    "E = np.linalg.eig(df.cov())[0].real"
   ]
  },
  {
   "cell_type": "code",
   "execution_count": 18,
   "id": "c501d524",
   "metadata": {},
   "outputs": [
    {
     "data": {
      "text/plain": [
       "array([], dtype=float64)"
      ]
     },
     "execution_count": 18,
     "metadata": {},
     "output_type": "execute_result"
    }
   ],
   "source": [
    "E[E<0]"
   ]
  },
  {
   "cell_type": "markdown",
   "id": "0c37b699",
   "metadata": {},
   "source": [
    "# LogNormal"
   ]
  },
  {
   "cell_type": "code",
   "execution_count": 19,
   "id": "d04e9fff",
   "metadata": {},
   "outputs": [],
   "source": [
    "COV_lognorm = cov.data.apply(np.exp) - 1 * 1 * 1"
   ]
  },
  {
   "cell_type": "code",
   "execution_count": 20,
   "id": "1743d589",
   "metadata": {},
   "outputs": [],
   "source": [
    "std = cov.std"
   ]
  },
  {
   "cell_type": "code",
   "execution_count": 21,
   "id": "e65af81d",
   "metadata": {},
   "outputs": [],
   "source": [
    "normal_equivalent_mean = np.log(np.ones(len(cov.data))) - std**2/2"
   ]
  },
  {
   "cell_type": "code",
   "execution_count": 22,
   "id": "95aeeab8",
   "metadata": {},
   "outputs": [
    {
     "name": "stderr",
     "output_type": "stream",
     "text": [
      "/home/enrica/anaconda3/envs/sandy-devel/lib/python3.7/site-packages/ipykernel_launcher.py:1: RuntimeWarning: covariance is not positive-semidefinite.\n",
      "  \"\"\"Entry point for launching an IPython kernel.\n"
     ]
    }
   ],
   "source": [
    "df = pd.DataFrame(np.random.multivariate_normal(normal_equivalent_mean, COV_lognorm, size=10000)).apply(np.exp)"
   ]
  },
  {
   "cell_type": "code",
   "execution_count": 23,
   "id": "51e51c35",
   "metadata": {},
   "outputs": [
    {
     "name": "stderr",
     "output_type": "stream",
     "text": [
      "/home/enrica/anaconda3/envs/sandy-devel/lib/python3.7/site-packages/seaborn/distributions.py:2619: FutureWarning: `distplot` is a deprecated function and will be removed in a future version. Please adapt your code to use either `displot` (a figure-level function with similar flexibility) or `histplot` (an axes-level function for histograms).\n",
      "  warnings.warn(msg, FutureWarning)\n"
     ]
    },
    {
     "name": "stdout",
     "output_type": "stream",
     "text": [
      "\n",
      "\n",
      "mean: [1.0377929699468778, 1.0056949887204487]\n"
     ]
    },
    {
     "data": {
      "image/png": "[encoded data removed]",
      "text/plain": [
       "<Figure size 432x288 with 1 Axes>"
      ]
     },
     "metadata": {
      "needs_background": "light"
     },
     "output_type": "display_data"
    }
   ],
   "source": [
    "sns.distplot(x=df.iloc[0,:], bins= 20, fit=lognorm, kde=False)\n",
    "print(f\"\"\"\n",
    "\n",
    "mean: {[df.iloc[0,:].mean(), df.iloc[-1,:].mean()]}\"\"\")"
   ]
  },
  {
   "cell_type": "code",
   "execution_count": 24,
   "id": "84b46869",
   "metadata": {},
   "outputs": [
    {
     "data": {
      "text/plain": [
       "0.4628296688947209"
      ]
     },
     "execution_count": 24,
     "metadata": {},
     "output_type": "execute_result"
    }
   ],
   "source": [
    "df.values.min()"
   ]
  },
  {
   "cell_type": "code",
   "execution_count": 25,
   "id": "15bc7e0f",
   "metadata": {},
   "outputs": [],
   "source": [
    "E = np.linalg.eig(df.cov())[0].real"
   ]
  },
  {
   "cell_type": "code",
   "execution_count": 26,
   "id": "176695eb",
   "metadata": {},
   "outputs": [
    {
     "data": {
      "text/plain": [
       "array([], dtype=float64)"
      ]
     },
     "execution_count": 26,
     "metadata": {},
     "output_type": "execute_result"
    }
   ],
   "source": [
    "E[E<0]"
   ]
  },
  {
   "cell_type": "markdown",
   "id": "46de8dde",
   "metadata": {},
   "source": [
    "# Now implemented in CategoryCov:\n",
    "- ### Normal"
   ]
  },
  {
   "cell_type": "code",
   "execution_count": 27,
   "id": "c0f6dd69",
   "metadata": {},
   "outputs": [],
   "source": [
    "df = cov.sampling(10000,tolerance=0).data"
   ]
  },
  {
   "cell_type": "code",
   "execution_count": 28,
   "id": "fdc8c863",
   "metadata": {},
   "outputs": [
    {
     "name": "stdout",
     "output_type": "stream",
     "text": [
      "\n",
      "\n",
      "mean: [1.003270648119446, 1.0033273440700738]\n"
     ]
    },
    {
     "name": "stderr",
     "output_type": "stream",
     "text": [
      "/home/enrica/anaconda3/envs/sandy-devel/lib/python3.7/site-packages/seaborn/distributions.py:2619: FutureWarning: `distplot` is a deprecated function and will be removed in a future version. Please adapt your code to use either `displot` (a figure-level function with similar flexibility) or `histplot` (an axes-level function for histograms).\n",
      "  warnings.warn(msg, FutureWarning)\n"
     ]
    },
    {
     "data": {
      "image/png": "[encoded data removed]",
      "text/plain": [
       "<Figure size 432x288 with 1 Axes>"
      ]
     },
     "metadata": {
      "needs_background": "light"
     },
     "output_type": "display_data"
    }
   ],
   "source": [
    "sns.distplot(x=df.iloc[0,:], bins= 20, fit=norm, kde=False)\n",
    "print(f\"\"\"\n",
    "\n",
    "mean: {[df.iloc[0,:].mean(), df.iloc[-1,:].mean()]}\"\"\")"
   ]
  },
  {
   "cell_type": "code",
   "execution_count": 29,
   "id": "048f3097",
   "metadata": {},
   "outputs": [
    {
     "data": {
      "text/plain": [
       "0.29435048099142935"
      ]
     },
     "execution_count": 29,
     "metadata": {},
     "output_type": "execute_result"
    }
   ],
   "source": [
    "df.values.min()"
   ]
  },
  {
   "cell_type": "code",
   "execution_count": 30,
   "id": "4f36497b",
   "metadata": {},
   "outputs": [],
   "source": [
    "E = np.linalg.eig(df.cov())[0].real"
   ]
  },
  {
   "cell_type": "code",
   "execution_count": 31,
   "id": "d3654f38",
   "metadata": {},
   "outputs": [
    {
     "data": {
      "text/plain": [
       "(560, -7.663676766506462e-17)"
      ]
     },
     "execution_count": 31,
     "metadata": {},
     "output_type": "execute_result"
    }
   ],
   "source": [
    "len(E[E<0]), E.min()"
   ]
  },
  {
   "cell_type": "markdown",
   "id": "125e555f",
   "metadata": {},
   "source": [
    "# UPDATE VERSION: random.Generator\n",
    "- ### Normal"
   ]
  },
  {
   "cell_type": "code",
   "execution_count": 32,
   "id": "2e11775e",
   "metadata": {},
   "outputs": [],
   "source": [
    "my_generator = np.random.default_rng()"
   ]
  },
  {
   "cell_type": "code",
   "execution_count": 33,
   "id": "190a63c2",
   "metadata": {},
   "outputs": [],
   "source": [
    "df = pd.DataFrame(my_generator.multivariate_normal(np.ones(len(cov.data)), COV, size=10000))"
   ]
  },
  {
   "cell_type": "code",
   "execution_count": 34,
   "id": "4970eb9e",
   "metadata": {},
   "outputs": [
    {
     "name": "stdout",
     "output_type": "stream",
     "text": [
      "\n",
      "\n",
      "mean: [0.9815328510925309, 0.9895837041283368]\n"
     ]
    },
    {
     "name": "stderr",
     "output_type": "stream",
     "text": [
      "/home/enrica/anaconda3/envs/sandy-devel/lib/python3.7/site-packages/seaborn/distributions.py:2619: FutureWarning: `distplot` is a deprecated function and will be removed in a future version. Please adapt your code to use either `displot` (a figure-level function with similar flexibility) or `histplot` (an axes-level function for histograms).\n",
      "  warnings.warn(msg, FutureWarning)\n"
     ]
    },
    {
     "data": {
      "image/png": "[encoded data removed]",
      "text/plain": [
       "<Figure size 432x288 with 1 Axes>"
      ]
     },
     "metadata": {
      "needs_background": "light"
     },
     "output_type": "display_data"
    }
   ],
   "source": [
    "sns.distplot(x=df.iloc[0,:], bins= 20, fit=norm, kde=False)\n",
    "print(f\"\"\"\n",
    "\n",
    "mean: {[df.iloc[0,:].mean(), df.iloc[-1,:].mean()]}\"\"\")"
   ]
  },
  {
   "cell_type": "code",
   "execution_count": 35,
   "id": "5a6300f4",
   "metadata": {},
   "outputs": [],
   "source": [
    "E, V = np.linalg.eig(df.cov())"
   ]
  },
  {
   "cell_type": "code",
   "execution_count": 36,
   "id": "ceda0541",
   "metadata": {},
   "outputs": [],
   "source": [
    "E_origin, V_origin = np.linalg.eig(COV)"
   ]
  },
  {
   "cell_type": "code",
   "execution_count": 37,
   "id": "6888c6bb",
   "metadata": {},
   "outputs": [
    {
     "data": {
      "text/html": [
       "<div>\n",
       "<style scoped>\n",
       "    .dataframe tbody tr th:only-of-type {\n",
       "        vertical-align: middle;\n",
       "    }\n",
       "\n",
       "    .dataframe tbody tr th {\n",
       "        vertical-align: top;\n",
       "    }\n",
       "\n",
       "    .dataframe thead th {\n",
       "        text-align: right;\n",
       "    }\n",
       "</style>\n",
       "<table border=\"1\" class=\"dataframe\">\n",
       "  <thead>\n",
       "    <tr style=\"text-align: right;\">\n",
       "      <th></th>\n",
       "      <th>0</th>\n",
       "      <th>1</th>\n",
       "    </tr>\n",
       "  </thead>\n",
       "  <tbody>\n",
       "    <tr>\n",
       "      <th>0</th>\n",
       "      <td>2.66458e+00</td>\n",
       "      <td>2.66075e+00</td>\n",
       "    </tr>\n",
       "    <tr>\n",
       "      <th>1</th>\n",
       "      <td>1.33032e+00</td>\n",
       "      <td>1.31641e+00</td>\n",
       "    </tr>\n",
       "    <tr>\n",
       "      <th>2</th>\n",
       "      <td>4.00038e-01</td>\n",
       "      <td>3.93323e-01</td>\n",
       "    </tr>\n",
       "    <tr>\n",
       "      <th>3</th>\n",
       "      <td>1.72862e-01</td>\n",
       "      <td>1.70611e-01</td>\n",
       "    </tr>\n",
       "    <tr>\n",
       "      <th>4</th>\n",
       "      <td>1.08498e-01</td>\n",
       "      <td>1.08341e-01</td>\n",
       "    </tr>\n",
       "    <tr>\n",
       "      <th>...</th>\n",
       "      <td>...</td>\n",
       "      <td>...</td>\n",
       "    </tr>\n",
       "    <tr>\n",
       "      <th>1923</th>\n",
       "      <td>1.95223e-16</td>\n",
       "      <td>0.00000e+00</td>\n",
       "    </tr>\n",
       "    <tr>\n",
       "      <th>1924</th>\n",
       "      <td>1.95223e-16</td>\n",
       "      <td>0.00000e+00</td>\n",
       "    </tr>\n",
       "    <tr>\n",
       "      <th>1925</th>\n",
       "      <td>1.95460e-16</td>\n",
       "      <td>0.00000e+00</td>\n",
       "    </tr>\n",
       "    <tr>\n",
       "      <th>1926</th>\n",
       "      <td>1.96679e-16</td>\n",
       "      <td>0.00000e+00</td>\n",
       "    </tr>\n",
       "    <tr>\n",
       "      <th>1927</th>\n",
       "      <td>1.98661e-16</td>\n",
       "      <td>0.00000e+00</td>\n",
       "    </tr>\n",
       "  </tbody>\n",
       "</table>\n",
       "<p>1928 rows × 2 columns</p>\n",
       "</div>"
      ],
      "text/plain": [
       "               0           1\n",
       "0    2.66458e+00 2.66075e+00\n",
       "1    1.33032e+00 1.31641e+00\n",
       "2    4.00038e-01 3.93323e-01\n",
       "3    1.72862e-01 1.70611e-01\n",
       "4    1.08498e-01 1.08341e-01\n",
       "...          ...         ...\n",
       "1923 1.95223e-16 0.00000e+00\n",
       "1924 1.95223e-16 0.00000e+00\n",
       "1925 1.95460e-16 0.00000e+00\n",
       "1926 1.96679e-16 0.00000e+00\n",
       "1927 1.98661e-16 0.00000e+00\n",
       "\n",
       "[1928 rows x 2 columns]"
      ]
     },
     "execution_count": 37,
     "metadata": {},
     "output_type": "execute_result"
    }
   ],
   "source": [
    "pd.DataFrame([E.real,E_origin.real]).T"
   ]
  },
  {
   "cell_type": "code",
   "execution_count": 38,
   "id": "9b59893b",
   "metadata": {},
   "outputs": [
    {
     "data": {
      "text/plain": [
       "0.3006519442290201"
      ]
     },
     "execution_count": 38,
     "metadata": {},
     "output_type": "execute_result"
    }
   ],
   "source": [
    "df.values.min()"
   ]
  },
  {
   "cell_type": "code",
   "execution_count": 39,
   "id": "ed069039",
   "metadata": {},
   "outputs": [],
   "source": [
    "E = np.linalg.eig(df.cov())[0].real"
   ]
  },
  {
   "cell_type": "code",
   "execution_count": 40,
   "id": "e58d0e24",
   "metadata": {},
   "outputs": [
    {
     "data": {
      "text/plain": [
       "array([], dtype=float64)"
      ]
     },
     "execution_count": 40,
     "metadata": {},
     "output_type": "execute_result"
    }
   ],
   "source": [
    "E[E<0]"
   ]
  },
  {
   "cell_type": "markdown",
   "id": "f520c8d9",
   "metadata": {},
   "source": [
    "- ### Lognormal "
   ]
  },
  {
   "cell_type": "code",
   "execution_count": 41,
   "id": "94105176",
   "metadata": {},
   "outputs": [],
   "source": [
    "COV_lognorm = cov.data.apply(np.exp) - 1 * 1 * 1"
   ]
  },
  {
   "cell_type": "code",
   "execution_count": 42,
   "id": "e624b6e0",
   "metadata": {},
   "outputs": [],
   "source": [
    "std = cov.std"
   ]
  },
  {
   "cell_type": "code",
   "execution_count": 43,
   "id": "ed2e7d6f",
   "metadata": {},
   "outputs": [],
   "source": [
    "normal_equivalent_mean = np.log(np.ones(len(cov.data))) - std**2/2"
   ]
  },
  {
   "cell_type": "code",
   "execution_count": 44,
   "id": "53f3ff48",
   "metadata": {},
   "outputs": [
    {
     "name": "stderr",
     "output_type": "stream",
     "text": [
      "/home/enrica/anaconda3/envs/sandy-devel/lib/python3.7/site-packages/ipykernel_launcher.py:1: RuntimeWarning: covariance is not positive-semidefinite.\n",
      "  \"\"\"Entry point for launching an IPython kernel.\n"
     ]
    }
   ],
   "source": [
    "df = pd.DataFrame(my_generator.multivariate_normal(normal_equivalent_mean, COV_lognorm, size=10000)).apply(np.exp)"
   ]
  },
  {
   "cell_type": "code",
   "execution_count": 45,
   "id": "5624e336",
   "metadata": {},
   "outputs": [
    {
     "name": "stderr",
     "output_type": "stream",
     "text": [
      "/home/enrica/anaconda3/envs/sandy-devel/lib/python3.7/site-packages/seaborn/distributions.py:2619: FutureWarning: `distplot` is a deprecated function and will be removed in a future version. Please adapt your code to use either `displot` (a figure-level function with similar flexibility) or `histplot` (an axes-level function for histograms).\n",
      "  warnings.warn(msg, FutureWarning)\n"
     ]
    },
    {
     "name": "stdout",
     "output_type": "stream",
     "text": [
      "\n",
      "\n",
      "mean: [1.0006900780734822, 0.9884966538764277]\n"
     ]
    },
    {
     "data": {
      "image/png": "[encoded data removed]",
      "text/plain": [
       "<Figure size 432x288 with 1 Axes>"
      ]
     },
     "metadata": {
      "needs_background": "light"
     },
     "output_type": "display_data"
    }
   ],
   "source": [
    "sns.distplot(x=df.iloc[0,:], bins= 20, fit=lognorm, kde=False)\n",
    "print(f\"\"\"\n",
    "\n",
    "mean: {[df.iloc[0,:].mean(), df.iloc[-1,:].mean()]}\"\"\")"
   ]
  },
  {
   "cell_type": "code",
   "execution_count": 46,
   "id": "e112a2e8",
   "metadata": {},
   "outputs": [
    {
     "data": {
      "text/plain": [
       "0.48246672286010367"
      ]
     },
     "execution_count": 46,
     "metadata": {},
     "output_type": "execute_result"
    }
   ],
   "source": [
    "df.values.min()"
   ]
  },
  {
   "cell_type": "code",
   "execution_count": 47,
   "id": "fb672061",
   "metadata": {},
   "outputs": [],
   "source": [
    "E = np.linalg.eig(df.cov())[0].real"
   ]
  },
  {
   "cell_type": "code",
   "execution_count": 48,
   "id": "c72d41cc",
   "metadata": {},
   "outputs": [
    {
     "data": {
      "text/plain": [
       "array([], dtype=float64)"
      ]
     },
     "execution_count": 48,
     "metadata": {},
     "output_type": "execute_result"
    }
   ],
   "source": [
    "E[E<0]"
   ]
  },
  {
   "cell_type": "markdown",
   "id": "afe1d916",
   "metadata": {},
   "source": [
    "# Compare sampling unit tests with new method:"
   ]
  },
  {
   "cell_type": "markdown",
   "id": "fc71b020",
   "metadata": {},
   "source": [
    " - ### Test 1"
   ]
  },
  {
   "cell_type": "code",
   "execution_count": 49,
   "id": "d02deab1",
   "metadata": {},
   "outputs": [
    {
     "data": {
      "text/plain": [
       "             0            1\n",
       "0 -7.49455e-01 -2.13159e+00\n",
       "1  1.28607e+00  1.10684e+00\n",
       "2  1.48457e+00  9.00879e-01"
      ]
     },
     "execution_count": 49,
     "metadata": {},
     "output_type": "execute_result"
    }
   ],
   "source": [
    "sandy.CategoryCov([[1, 0.4],[0.4, 1]]).sampling(3, seed=11)"
   ]
  },
  {
   "cell_type": "code",
   "execution_count": 50,
   "id": "dc72b012",
   "metadata": {},
   "outputs": [
    {
     "data": {
      "text/plain": [
       "            0           1\n",
       "0 2.20264e+00 1.62426e+00\n",
       "1 2.02974e+00 1.81370e+00\n",
       "2 1.53801e+00 7.36677e-01"
      ]
     },
     "execution_count": 50,
     "metadata": {},
     "output_type": "execute_result"
    }
   ],
   "source": [
    "sandy.Samples(my_generator.multivariate_normal(np.ones(2), [[1, 0.4],[0.4, 1]], size=3))"
   ]
  },
  {
   "cell_type": "markdown",
   "id": "39b9dad6",
   "metadata": {},
   "source": [
    " - ### Test 2"
   ]
  },
  {
   "cell_type": "code",
   "execution_count": 51,
   "id": "99c1b5dd",
   "metadata": {},
   "outputs": [
    {
     "data": {
      "text/html": [
       "<div>\n",
       "<style scoped>\n",
       "    .dataframe tbody tr th:only-of-type {\n",
       "        vertical-align: middle;\n",
       "    }\n",
       "\n",
       "    .dataframe tbody tr th {\n",
       "        vertical-align: top;\n",
       "    }\n",
       "\n",
       "    .dataframe thead th {\n",
       "        text-align: right;\n",
       "    }\n",
       "</style>\n",
       "<table border=\"1\" class=\"dataframe\">\n",
       "  <thead>\n",
       "    <tr style=\"text-align: right;\">\n",
       "      <th></th>\n",
       "      <th>0</th>\n",
       "      <th>1</th>\n",
       "    </tr>\n",
       "  </thead>\n",
       "  <tbody>\n",
       "    <tr>\n",
       "      <th>0</th>\n",
       "      <td>9.98662e-01</td>\n",
       "      <td>3.99417e-01</td>\n",
       "    </tr>\n",
       "    <tr>\n",
       "      <th>1</th>\n",
       "      <td>3.99417e-01</td>\n",
       "      <td>9.98156e-01</td>\n",
       "    </tr>\n",
       "  </tbody>\n",
       "</table>\n",
       "</div>"
      ],
      "text/plain": [
       "            0           1\n",
       "0 9.98662e-01 3.99417e-01\n",
       "1 3.99417e-01 9.98156e-01"
      ]
     },
     "execution_count": 51,
     "metadata": {},
     "output_type": "execute_result"
    }
   ],
   "source": [
    "sample = sandy.CategoryCov([[1, 0.4],[0.4, 1]]).sampling(1000000, seed=11)\n",
    "sample.data.cov()"
   ]
  },
  {
   "cell_type": "code",
   "execution_count": 52,
   "id": "83bd050d",
   "metadata": {},
   "outputs": [
    {
     "data": {
      "text/html": [
       "<div>\n",
       "<style scoped>\n",
       "    .dataframe tbody tr th:only-of-type {\n",
       "        vertical-align: middle;\n",
       "    }\n",
       "\n",
       "    .dataframe tbody tr th {\n",
       "        vertical-align: top;\n",
       "    }\n",
       "\n",
       "    .dataframe thead th {\n",
       "        text-align: right;\n",
       "    }\n",
       "</style>\n",
       "<table border=\"1\" class=\"dataframe\">\n",
       "  <thead>\n",
       "    <tr style=\"text-align: right;\">\n",
       "      <th></th>\n",
       "      <th>0</th>\n",
       "      <th>1</th>\n",
       "    </tr>\n",
       "  </thead>\n",
       "  <tbody>\n",
       "    <tr>\n",
       "      <th>0</th>\n",
       "      <td>1.00013e+00</td>\n",
       "      <td>4.01253e-01</td>\n",
       "    </tr>\n",
       "    <tr>\n",
       "      <th>1</th>\n",
       "      <td>4.01253e-01</td>\n",
       "      <td>1.00391e+00</td>\n",
       "    </tr>\n",
       "  </tbody>\n",
       "</table>\n",
       "</div>"
      ],
      "text/plain": [
       "            0           1\n",
       "0 1.00013e+00 4.01253e-01\n",
       "1 4.01253e-01 1.00391e+00"
      ]
     },
     "execution_count": 52,
     "metadata": {},
     "output_type": "execute_result"
    }
   ],
   "source": [
    "sample = sandy.Samples(my_generator.multivariate_normal(np.ones(2), [[1, 0.4],[0.4, 1]], size=1000000))\n",
    "sample.data.cov()"
   ]
  },
  {
   "cell_type": "markdown",
   "id": "57728440",
   "metadata": {},
   "source": [
    " - ### Test 3"
   ]
  },
  {
   "cell_type": "code",
   "execution_count": 53,
   "id": "80494585",
   "metadata": {},
   "outputs": [
    {
     "data": {
      "text/plain": [
       "             0           1\n",
       "0 -8.92988e-01 4.06292e+00\n",
       "1  1.30954e+00 4.99148e-01\n",
       "2  1.52432e+00 1.51631e-01"
      ]
     },
     "execution_count": 53,
     "metadata": {},
     "output_type": "execute_result"
    }
   ],
   "source": [
    "sandy.CategoryCov([[1, -2],[-2, 3]]).sampling(3, seed=11, tolerance=0)"
   ]
  },
  {
   "cell_type": "code",
   "execution_count": 54,
   "id": "9a966028",
   "metadata": {},
   "outputs": [
    {
     "data": {
      "text/plain": [
       "             0            1\n",
       "0  1.85268e+00 -3.79671e-01\n",
       "1 -1.49973e+00  5.04465e+00\n",
       "2  1.76968e+00 -2.45370e-01"
      ]
     },
     "execution_count": 54,
     "metadata": {},
     "output_type": "execute_result"
    }
   ],
   "source": [
    "cov = sandy.CategoryCov([[1, -2],[-2, 3]])\n",
    "E, V = cov.eig(tolerance=0) \n",
    "cov_semipositive = V.dot(np.diag(E)).dot(np.linalg.inv(V))\n",
    "sandy.Samples(my_generator.multivariate_normal(np.ones(2), cov_semipositive, size=3))"
   ]
  },
  {
   "cell_type": "markdown",
   "id": "ec54cee3",
   "metadata": {},
   "source": [
    "- ### Test 4"
   ]
  },
  {
   "cell_type": "code",
   "execution_count": 55,
   "id": "6a1a478f",
   "metadata": {},
   "outputs": [
    {
     "data": {
      "text/html": [
       "<div>\n",
       "<style scoped>\n",
       "    .dataframe tbody tr th:only-of-type {\n",
       "        vertical-align: middle;\n",
       "    }\n",
       "\n",
       "    .dataframe tbody tr th {\n",
       "        vertical-align: top;\n",
       "    }\n",
       "\n",
       "    .dataframe thead th {\n",
       "        text-align: right;\n",
       "    }\n",
       "</style>\n",
       "<table border=\"1\" class=\"dataframe\">\n",
       "  <thead>\n",
       "    <tr style=\"text-align: right;\">\n",
       "      <th></th>\n",
       "      <th>0</th>\n",
       "      <th>1</th>\n",
       "    </tr>\n",
       "  </thead>\n",
       "  <tbody>\n",
       "    <tr>\n",
       "      <th>0</th>\n",
       "      <td>1.16925e+00</td>\n",
       "      <td>-1.89189e+00</td>\n",
       "    </tr>\n",
       "    <tr>\n",
       "      <th>1</th>\n",
       "      <td>-1.89189e+00</td>\n",
       "      <td>3.06115e+00</td>\n",
       "    </tr>\n",
       "  </tbody>\n",
       "</table>\n",
       "</div>"
      ],
      "text/plain": [
       "             0            1\n",
       "0  1.16925e+00 -1.89189e+00\n",
       "1 -1.89189e+00  3.06115e+00"
      ]
     },
     "execution_count": 55,
     "metadata": {},
     "output_type": "execute_result"
    }
   ],
   "source": [
    "sandy.CategoryCov([[1, -2],[-2, 3]]).sampling(1000000, seed=11, tolerance=0).data.cov()"
   ]
  },
  {
   "cell_type": "code",
   "execution_count": 56,
   "id": "2ee83212",
   "metadata": {},
   "outputs": [
    {
     "data": {
      "text/html": [
       "<div>\n",
       "<style scoped>\n",
       "    .dataframe tbody tr th:only-of-type {\n",
       "        vertical-align: middle;\n",
       "    }\n",
       "\n",
       "    .dataframe tbody tr th {\n",
       "        vertical-align: top;\n",
       "    }\n",
       "\n",
       "    .dataframe thead th {\n",
       "        text-align: right;\n",
       "    }\n",
       "</style>\n",
       "<table border=\"1\" class=\"dataframe\">\n",
       "  <thead>\n",
       "    <tr style=\"text-align: right;\">\n",
       "      <th></th>\n",
       "      <th>0</th>\n",
       "      <th>1</th>\n",
       "    </tr>\n",
       "  </thead>\n",
       "  <tbody>\n",
       "    <tr>\n",
       "      <th>0</th>\n",
       "      <td>1.16969e+00</td>\n",
       "      <td>-1.89260e+00</td>\n",
       "    </tr>\n",
       "    <tr>\n",
       "      <th>1</th>\n",
       "      <td>-1.89260e+00</td>\n",
       "      <td>3.06230e+00</td>\n",
       "    </tr>\n",
       "  </tbody>\n",
       "</table>\n",
       "</div>"
      ],
      "text/plain": [
       "             0            1\n",
       "0  1.16969e+00 -1.89260e+00\n",
       "1 -1.89260e+00  3.06230e+00"
      ]
     },
     "execution_count": 56,
     "metadata": {},
     "output_type": "execute_result"
    }
   ],
   "source": [
    "cov = sandy.CategoryCov([[1, -2],[-2, 3]])\n",
    "E, V = cov.eig(tolerance=0) \n",
    "cov_semipositive = V.dot(np.diag(E)).dot(np.linalg.inv(V))\n",
    "sandy.Samples(my_generator.multivariate_normal(np.ones(2), cov_semipositive, size=1000000)).data.cov()"
   ]
  },
  {
   "cell_type": "markdown",
   "id": "a59c6d2e",
   "metadata": {},
   "source": [
    "## Behaviour with non-PSD"
   ]
  },
  {
   "cell_type": "code",
   "execution_count": 57,
   "id": "928078e2",
   "metadata": {},
   "outputs": [
    {
     "name": "stderr",
     "output_type": "stream",
     "text": [
      "/home/enrica/anaconda3/envs/sandy-devel/lib/python3.7/site-packages/ipykernel_launcher.py:1: RuntimeWarning: covariance is not positive-semidefinite.\n",
      "  \"\"\"Entry point for launching an IPython kernel.\n"
     ]
    }
   ],
   "source": [
    "samples = sandy.Samples(my_generator.multivariate_normal(np.ones(2), cov.data, size=1000000)).data.cov()"
   ]
  },
  {
   "cell_type": "code",
   "execution_count": 58,
   "id": "386b4eb5",
   "metadata": {},
   "outputs": [
    {
     "data": {
      "text/plain": [
       "array([0.23630504, 4.24497055])"
      ]
     },
     "execution_count": 58,
     "metadata": {},
     "output_type": "execute_result"
    }
   ],
   "source": [
    "np.linalg.eig(samples)[0]"
   ]
  },
  {
   "cell_type": "code",
   "execution_count": 59,
   "id": "6cf4fcac",
   "metadata": {},
   "outputs": [
    {
     "data": {
      "text/plain": [
       "array([-0.23606798,  4.23606798])"
      ]
     },
     "execution_count": 59,
     "metadata": {},
     "output_type": "execute_result"
    }
   ],
   "source": [
    "np.linalg.eig(cov.data)[0]"
   ]
  },
  {
   "cell_type": "code",
   "execution_count": 60,
   "id": "27028b9e",
   "metadata": {},
   "outputs": [
    {
     "name": "stderr",
     "output_type": "stream",
     "text": [
      "/home/enrica/anaconda3/envs/sandy-devel/lib/python3.7/site-packages/ipykernel_launcher.py:1: RuntimeWarning: covariance is not positive-semidefinite.\n",
      "  \"\"\"Entry point for launching an IPython kernel.\n"
     ]
    }
   ],
   "source": [
    "samples = sandy.Samples(my_generator.multivariate_normal(np.ones(3), [[1,-2, 9],[0,-2,2],[9,0,3]], size=1000000, tol=1e-4)).data.cov()"
   ]
  },
  {
   "cell_type": "code",
   "execution_count": 61,
   "id": "78511f26",
   "metadata": {},
   "outputs": [
    {
     "data": {
      "text/plain": [
       "array([11.28730709,  7.40914717,  1.43538874])"
      ]
     },
     "execution_count": 61,
     "metadata": {},
     "output_type": "execute_result"
    }
   ],
   "source": [
    "np.linalg.eig(samples)[0]"
   ]
  },
  {
   "cell_type": "code",
   "execution_count": 62,
   "id": "a832ab44",
   "metadata": {},
   "outputs": [
    {
     "data": {
      "text/plain": [
       "array([10.89996032, -7.41529786, -1.48466246])"
      ]
     },
     "execution_count": 62,
     "metadata": {},
     "output_type": "execute_result"
    }
   ],
   "source": [
    "np.linalg.eig([[1,-2, 9],[0,-2,2],[9,0,3]])[0]"
   ]
  },
  {
   "cell_type": "markdown",
   "id": "604a01cf",
   "metadata": {},
   "source": [
    "## Bigger matrices\n",
    "##### Effect of negative eigenvalues on bigger matrices (i.e. matrices in which there are more negative eigenvalues even if they are always expected to be ~50%)"
   ]
  },
  {
   "cell_type": "code",
   "execution_count": 63,
   "id": "31b7b3b7",
   "metadata": {},
   "outputs": [],
   "source": [
    "F_endf6 = sandy.get_endf6_file(\"jeff_33\", \"xs\", 451030) "
   ]
  },
  {
   "cell_type": "code",
   "execution_count": 64,
   "id": "50693448",
   "metadata": {},
   "outputs": [
    {
     "name": "stderr",
     "output_type": "stream",
     "text": [
      "WARNING:  skip 'LB=8' covariance for [(4525/2), (4525/2)]\n",
      "WARNING:  skip 'LB=8' covariance for [(4525/4), (4525/4)]\n",
      "WARNING:  skip 'LB=8' covariance for [(4525/16), (4525/16)]\n",
      "WARNING:  skip 'LB=8' covariance for [(4525/51), (4525/51)]\n",
      "WARNING:  skip 'LB=8' covariance for [(4525/91), (4525/91)]\n",
      "WARNING:  skip 'LB=8' covariance for [(4525/102), (4525/102)]\n",
      "WARNING:  skip 'LB=8' covariance for [(4525/103), (4525/103)]\n",
      "WARNING:  skip 'LB=8' covariance for [(4525/107), (4525/107)]\n"
     ]
    }
   ],
   "source": [
    "F_cov = sandy.CategoryCov(sandy.XsCov.from_endf6(F_endf6))"
   ]
  },
  {
   "cell_type": "code",
   "execution_count": 65,
   "id": "b9f9721b",
   "metadata": {},
   "outputs": [
    {
     "data": {
      "text/plain": [
       "(-20.29417923096467, 120.92336534985974)"
      ]
     },
     "execution_count": 65,
     "metadata": {},
     "output_type": "execute_result"
    }
   ],
   "source": [
    "F_E = F_cov.eig()[0]\n",
    "min(F_E), max(F_E)"
   ]
  },
  {
   "cell_type": "code",
   "execution_count": 66,
   "id": "d5e67ada",
   "metadata": {},
   "outputs": [
    {
     "data": {
      "text/plain": [
       "(-5.219466686119712e-15, 120.55021578117396)"
      ]
     },
     "execution_count": 66,
     "metadata": {},
     "output_type": "execute_result"
    }
   ],
   "source": [
    "sandy_samples = F_cov.sampling(10000, seed=11, tolerance=0)\n",
    "sandy_cov = sandy.CategoryCov(sandy_samples.data.cov())\n",
    "sandy_eig = sandy_cov.eig()[0]\n",
    "min(sandy_eig), max(sandy_eig)"
   ]
  },
  {
   "cell_type": "code",
   "execution_count": 67,
   "id": "96929a9b",
   "metadata": {},
   "outputs": [
    {
     "name": "stderr",
     "output_type": "stream",
     "text": [
      "/home/enrica/anaconda3/envs/sandy-devel/lib/python3.7/site-packages/ipykernel_launcher.py:1: RuntimeWarning: covariance is not positive-semidefinite.\n",
      "  \"\"\"Entry point for launching an IPython kernel.\n"
     ]
    },
    {
     "data": {
      "text/plain": [
       "(8.883127316110237e-15, 119.57946814420535)"
      ]
     },
     "execution_count": 67,
     "metadata": {},
     "output_type": "execute_result"
    }
   ],
   "source": [
    "generator_samples = sandy.Samples(my_generator.multivariate_normal(np.ones(F_cov.data.shape[0]), F_cov.data, size=10000))\n",
    "generator_cov = sandy.CategoryCov(generator_samples.data.cov())\n",
    "generator_eig = generator_cov.eig()[0]\n",
    "min(generator_eig), max(generator_eig)"
   ]
  },
  {
   "cell_type": "code",
   "execution_count": 68,
   "id": "ddf3f142",
   "metadata": {},
   "outputs": [
    {
     "data": {
      "text/plain": [
       "(5.449543757252468e-15, 123.11185922746436)"
      ]
     },
     "execution_count": 68,
     "metadata": {},
     "output_type": "execute_result"
    }
   ],
   "source": [
    "EE, VV = F_cov.eig()\n",
    "EE[EE<0] = 0\n",
    "tmp_cov = VV.dot(np.diag(EE)).dot(np.linalg.inv(VV))\n",
    "generator_samples_0 = sandy.Samples(my_generator.multivariate_normal(np.ones(F_cov.data.shape[0]), tmp_cov, size=10000))\n",
    "generator_cov_0 = sandy.CategoryCov(generator_samples_0.data.cov())\n",
    "generator_eig_0 = generator_cov_0.eig()[0]\n",
    "min(generator_eig_0), max(generator_eig_0)"
   ]
  },
  {
   "cell_type": "code",
   "execution_count": 69,
   "id": "5bfef453",
   "metadata": {},
   "outputs": [],
   "source": [
    "Delta_sandy_original = abs(F_cov.data.values - sandy_cov.data.values).reshape(F_cov.data.shape[0]**2,1)\n",
    "Delta_generator_original = abs(F_cov.data.values - generator_cov.data.values).reshape(F_cov.data.shape[0]**2,1)\n",
    "Delta_generator0_original = abs(generator_cov_0.data.values - F_cov.data.values).reshape(F_cov.data.shape[0]**2,1)"
   ]
  },
  {
   "cell_type": "code",
   "execution_count": 70,
   "id": "a22c022e",
   "metadata": {},
   "outputs": [],
   "source": [
    "tol = 1e-6*max(F_E)"
   ]
  },
  {
   "cell_type": "code",
   "execution_count": 71,
   "id": "61ea644e",
   "metadata": {},
   "outputs": [
    {
     "data": {
      "text/plain": [
       "78.54411299235683"
      ]
     },
     "execution_count": 71,
     "metadata": {},
     "output_type": "execute_result"
    }
   ],
   "source": [
    "len(Delta_sandy_original[Delta_sandy_original>tol])/F_cov.data.shape[0]**2*100"
   ]
  },
  {
   "cell_type": "code",
   "execution_count": 72,
   "id": "afa9ea33",
   "metadata": {},
   "outputs": [
    {
     "data": {
      "text/plain": [
       "80.38771073209459"
      ]
     },
     "execution_count": 72,
     "metadata": {},
     "output_type": "execute_result"
    }
   ],
   "source": [
    "len(Delta_generator_original[Delta_generator_original>tol])/F_cov.data.shape[0]**2*100"
   ]
  },
  {
   "cell_type": "code",
   "execution_count": 73,
   "id": "e8893b4c",
   "metadata": {},
   "outputs": [
    {
     "data": {
      "text/plain": [
       "78.49222451108079"
      ]
     },
     "execution_count": 73,
     "metadata": {},
     "output_type": "execute_result"
    }
   ],
   "source": [
    "len(Delta_generator0_original[Delta_generator0_original>tol])/F_cov.data.shape[0]**2*100"
   ]
  },
  {
   "cell_type": "code",
   "execution_count": null,
   "id": "0d66eab4",
   "metadata": {},
   "outputs": [],
   "source": []
  }
 ],
 "metadata": {
  "kernelspec": {
   "display_name": "Python3 (sandy-devel)",
   "language": "python",
   "name": "sandy-devel"
  },
  "language_info": {
   "codemirror_mode": {
    "name": "ipython",
    "version": 3
   },
   "file_extension": ".py",
   "mimetype": "text/x-python",
   "name": "python",
   "nbconvert_exporter": "python",
   "pygments_lexer": "ipython3",
   "version": "3.7.12"
  }
 },
 "nbformat": 4,
 "nbformat_minor": 5
}
