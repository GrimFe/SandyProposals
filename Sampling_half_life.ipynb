{
 "cells": [
  {
   "cell_type": "code",
   "execution_count": 1,
   "id": "57beda1f",
   "metadata": {},
   "outputs": [],
   "source": [
    "import sandy\n",
    "import pandas as pd\n",
    "import seaborn as sns\n",
    "from scipy.stats import norm\n",
    "import copy"
   ]
  },
  {
   "cell_type": "markdown",
   "id": "860d76fd",
   "metadata": {},
   "source": [
    "## Draft procedure to perform sampling of half life :"
   ]
  },
  {
   "cell_type": "code",
   "execution_count": 2,
   "id": "e91030ff",
   "metadata": {},
   "outputs": [],
   "source": [
    "zam = 922350\n",
    "endf6 = sandy.get_endf6_file(\"jeff_33\", 'decay', zam)"
   ]
  },
  {
   "cell_type": "code",
   "execution_count": 3,
   "id": "0be5b057",
   "metadata": {},
   "outputs": [],
   "source": [
    "rdd = sandy.DecayData.from_endf6(endf6)"
   ]
  },
  {
   "cell_type": "code",
   "execution_count": 4,
   "id": "e2c2024d",
   "metadata": {},
   "outputs": [],
   "source": [
    "HL = rdd.get_halflives(False).values \n",
    "DHL = rdd.get_halflives().DHL.values/HL # To obtain the relative value of the uncertainty (coherent with the \n",
    "# relative variances for the cross section stored in ENDF6 file) which we assume equals to standard deviation"
   ]
  },
  {
   "cell_type": "code",
   "execution_count": 5,
   "id": "0f6bf7fd",
   "metadata": {},
   "outputs": [],
   "source": [
    "cov = sandy.CategoryCov.from_stdev(DHL)"
   ]
  },
  {
   "cell_type": "code",
   "execution_count": 6,
   "id": "a0a2424e",
   "metadata": {},
   "outputs": [],
   "source": [
    "nsamples = 50000"
   ]
  },
  {
   "cell_type": "code",
   "execution_count": 7,
   "id": "d23df206",
   "metadata": {},
   "outputs": [],
   "source": [
    "Perturbation_coeff = cov.sampling(nsamples).data"
   ]
  },
  {
   "cell_type": "code",
   "execution_count": 8,
   "id": "7c9e1431",
   "metadata": {},
   "outputs": [],
   "source": [
    "Perturbed_values = Perturbation_coeff * HL # This operation will be performed with a method (<custom_perturmation_HL>)\n",
    "# through which the HL value stored in rdd.data dict will be updated with the perturbed value. This method will return \n",
    "# DecayData object and the new information could be stored in ENDF6 format with the method <to_endf6> \n",
    "# (and then <to_file> if needed)"
   ]
  },
  {
   "cell_type": "code",
   "execution_count": 9,
   "id": "eb08a55b",
   "metadata": {},
   "outputs": [
    {
     "name": "stderr",
     "output_type": "stream",
     "text": [
      "C:\\Users\\felic\\anaconda3\\envs\\sandy-devel\\lib\\site-packages\\seaborn\\distributions.py:2619: FutureWarning: `distplot` is a deprecated function and will be removed in a future version. Please adapt your code to use either `displot` (a figure-level function with similar flexibility) or `histplot` (an axes-level function for histograms).\n",
      "  warnings.warn(msg, FutureWarning)\n"
     ]
    },
    {
     "data": {
      "text/plain": [
       "<AxesSubplot:>"
      ]
     },
     "execution_count": 9,
     "metadata": {},
     "output_type": "execute_result"
    },
    {
     "data": {
      "image/png": "[encoded data removed]",
      "text/plain": [
       "<Figure size 432x288 with 1 Axes>"
      ]
     },
     "metadata": {
      "needs_background": "light"
     },
     "output_type": "display_data"
    }
   ],
   "source": [
    "sns.distplot(x=Perturbed_values, fit=norm, kde=False)"
   ]
  },
  {
   "cell_type": "code",
   "execution_count": 10,
   "id": "f81010e3",
   "metadata": {},
   "outputs": [],
   "source": [
    "df = pd.DataFrame({'Mean sampling distribution': Perturbed_values.mean(), \n",
    "                   'Std sampling distribution': Perturbed_values.std(), 'HL': HL, 'DHL': DHL * HL}).T"
   ]
  },
  {
   "cell_type": "code",
   "execution_count": 11,
   "id": "a7b7b8a9",
   "metadata": {},
   "outputs": [
    {
     "data": {
      "text/html": [
       "<div>\n",
       "<style scoped>\n",
       "    .dataframe tbody tr th:only-of-type {\n",
       "        vertical-align: middle;\n",
       "    }\n",
       "\n",
       "    .dataframe tbody tr th {\n",
       "        vertical-align: top;\n",
       "    }\n",
       "\n",
       "    .dataframe thead th {\n",
       "        text-align: right;\n",
       "    }\n",
       "</style>\n",
       "<table border=\"1\" class=\"dataframe\">\n",
       "  <thead>\n",
       "    <tr style=\"text-align: right;\">\n",
       "      <th></th>\n",
       "      <th>Values</th>\n",
       "    </tr>\n",
       "  </thead>\n",
       "  <tbody>\n",
       "    <tr>\n",
       "      <th>Mean sampling distribution</th>\n",
       "      <td>2.22101e+16</td>\n",
       "    </tr>\n",
       "    <tr>\n",
       "      <th>Std sampling distribution</th>\n",
       "      <td>1.57447e+13</td>\n",
       "    </tr>\n",
       "    <tr>\n",
       "      <th>HL</th>\n",
       "      <td>2.22102e+16</td>\n",
       "    </tr>\n",
       "    <tr>\n",
       "      <th>DHL</th>\n",
       "      <td>1.57788e+13</td>\n",
       "    </tr>\n",
       "  </tbody>\n",
       "</table>\n",
       "</div>"
      ],
      "text/plain": [
       "                                Values\n",
       "Mean sampling distribution 2.22101e+16\n",
       "Std sampling distribution  1.57447e+13\n",
       "HL                         2.22102e+16\n",
       "DHL                        1.57788e+13"
      ]
     },
     "execution_count": 11,
     "metadata": {},
     "output_type": "execute_result"
    }
   ],
   "source": [
    "df.rename(columns={ 0: \"Values\"}, inplace=True)\n",
    "df"
   ]
  },
  {
   "cell_type": "code",
   "execution_count": 12,
   "id": "7dd7445d",
   "metadata": {},
   "outputs": [],
   "source": [
    "rdd_perturbed = copy.deepcopy(rdd.data)\n",
    "rdd_perturbed[zam]['half_life'] = Perturbed_values.values[0][0]\n",
    "rdd_perturbed = sandy.DecayData(rdd_perturbed)\n",
    "# This cell will be included in the <custom_perturmation_HL> method which will return a DecayData object with the \n",
    "# updated perturbed information"
   ]
  },
  {
   "cell_type": "code",
   "execution_count": 13,
   "id": "010eb0f4",
   "metadata": {},
   "outputs": [],
   "source": [
    "new_endf6 = rdd_perturbed.to_endf6(endf6)"
   ]
  },
  {
   "cell_type": "code",
   "execution_count": 14,
   "id": "946a8bcc",
   "metadata": {},
   "outputs": [
    {
     "data": {
      "text/plain": [
       "MAT   MF  MT \n",
       "3542  1   451     9.223500+4 2.330250+2         -1          1  ...\n",
       "          452     9.223500+4 2.330250+2          0          1  ...\n",
       "      8   457     92235.0000 233.025000          0          0  ...\n",
       "dtype: object"
      ]
     },
     "execution_count": 14,
     "metadata": {},
     "output_type": "execute_result"
    }
   ],
   "source": [
    "new_endf6"
   ]
  },
  {
   "cell_type": "code",
   "execution_count": 15,
   "id": "66d21f01",
   "metadata": {},
   "outputs": [],
   "source": [
    "new_endf6.to_file('perturbed_HL')"
   ]
  },
  {
   "cell_type": "code",
   "execution_count": null,
   "id": "cbc912f6",
   "metadata": {},
   "outputs": [],
   "source": []
  },
  {
   "cell_type": "code",
   "execution_count": 16,
   "id": "1751319f",
   "metadata": {},
   "outputs": [
    {
     "data": {
      "text/plain": [
       "2.21965013606862e+16"
      ]
     },
     "execution_count": 16,
     "metadata": {},
     "output_type": "execute_result"
    }
   ],
   "source": [
    "rdd_perturbed.data[zam]['half_life']"
   ]
  },
  {
   "cell_type": "code",
   "execution_count": 17,
   "id": "bb06e120",
   "metadata": {},
   "outputs": [
    {
     "data": {
      "text/plain": [
       "2.22102e+16"
      ]
     },
     "execution_count": 17,
     "metadata": {},
     "output_type": "execute_result"
    }
   ],
   "source": [
    "rdd.data[zam]['half_life']"
   ]
  },
  {
   "cell_type": "code",
   "execution_count": null,
   "id": "40035495",
   "metadata": {},
   "outputs": [],
   "source": []
  },
  {
   "cell_type": "code",
   "execution_count": 19,
   "id": "5c212874",
   "metadata": {},
   "outputs": [
    {
     "data": {
      "text/plain": [
       "0"
      ]
     },
     "execution_count": 19,
     "metadata": {},
     "output_type": "execute_result"
    }
   ],
   "source": [
    "import os\n",
    "os.system('jupyter nbconvert --to html Sampling_half_life.ipynb')"
   ]
  },
  {
   "cell_type": "code",
   "execution_count": null,
   "id": "bc9acd67",
   "metadata": {},
   "outputs": [],
   "source": []
  },
  {
   "cell_type": "code",
   "execution_count": null,
   "id": "bf2b4970",
   "metadata": {},
   "outputs": [],
   "source": []
  }
 ],
 "metadata": {
  "kernelspec": {
   "display_name": "Python3 (sandy-devel)",
   "language": "python",
   "name": "sandy-devel"
  },
  "language_info": {
   "codemirror_mode": {
    "name": "ipython",
    "version": 3
   },
   "file_extension": ".py",
   "mimetype": "text/x-python",
   "name": "python",
   "nbconvert_exporter": "python",
   "pygments_lexer": "ipython3",
   "version": "3.7.12"
  }
 },
 "nbformat": 4,
 "nbformat_minor": 5
}
